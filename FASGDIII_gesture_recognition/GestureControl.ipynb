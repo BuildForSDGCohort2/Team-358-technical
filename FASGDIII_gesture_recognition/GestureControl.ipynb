{
 "cells": [
  {
   "cell_type": "code",
   "execution_count": 1,
   "metadata": {},
   "outputs": [],
   "source": [
    "#!/usr/bin/env python3 "
   ]
  },
  {
   "cell_type": "code",
   "execution_count": 1,
   "metadata": {},
   "outputs": [],
   "source": [
    "# Importing the necessary modules \n",
    "import os \n",
    "import cv2 \n",
    "import random \n",
    "import joblib as jb \n",
    "import numpy as np \n",
    "import keras\n",
    "import joblib \n",
    "import tensorflow as tf \n",
    "import matplotlib.pyplot as plt \n",
    "from imutils import paths \n",
    "from tensorflow.keras.optimizers import Adam \n",
    "from tensorflow.keras.preprocessing.image import img_to_array, ImageDataGenerator \n",
    "from sklearn.model_selection import train_test_split \n",
    "from sklearn.preprocessing import StandardScaler, LabelEncoder \n",
    "from tensorflow.keras.optimizers import SGD \n",
    "from tensorflow.keras.layers import Flatten, MaxPool2D, MaxPooling2D\n",
    "from tensorflow.keras.utils import to_categorical \n",
    "from tensorflow.keras.models import Sequential \n",
    "from tensorflow.keras.layers import Conv2D, Dense, Activation, Dropout "
   ]
  },
  {
   "cell_type": "code",
   "execution_count": 2,
   "metadata": {},
   "outputs": [],
   "source": [
    "# Setting the path to the gesture control data \n",
    "imgDir = \"dataset/\"\n",
    "\n",
    "# Getting the image path \n",
    "imagePaths = sorted(list(paths.list_images(imgDir)))\n",
    "random.seed(55) \n",
    "random.shuffle(imagePaths) \n",
    "\n",
    "# Initialize the data and labels \n",
    "data = []\n",
    "labels = []\n",
    "\n",
    "# loop over the input images \n",
    "for imagePath in imagePaths: \n",
    "    # load the image, pre-process it, and store it in the data list \n",
    "    image = cv2.imread(imagePath, cv2.IMREAD_GRAYSCALE)\n",
    "    # Resizing the image \n",
    "    image = cv2.resize(image, (96, 96))\n",
    "    \n",
    "    # Converting the image into an array \n",
    "    image = img_to_array(image) \n",
    "    data.append(image) \n",
    "    \n",
    "    # Extract a set of class labels from the image path and append the \n",
    "    # Values to the label list \n",
    "    outputValue = imagePath.split(\"/\")[-2]\n",
    "    labels.append(outputValue) \n",
    "    \n"
   ]
  },
  {
   "cell_type": "code",
   "execution_count": 3,
   "metadata": {},
   "outputs": [
    {
     "data": {
      "image/png": "[encoded data removed]",
      "text/plain": [
       "<Figure size 432x288 with 1 Axes>"
      ]
     },
     "metadata": {
      "needs_background": "light"
     },
     "output_type": "display_data"
    }
   ],
   "source": [
    "# Displaying some random plots \n",
    "plt.imshow(data[0], cmap=\"gray\")\n",
    "plt.title(labels[0])\n",
    "plt.show() "
   ]
  },
  {
   "cell_type": "code",
   "execution_count": 4,
   "metadata": {},
   "outputs": [
    {
     "name": "stdout",
     "output_type": "stream",
     "text": [
      "Total input data:  6300\n",
      "Total output data:  6300\n",
      " \n",
      "Unique labels:  ['fist' 'five' 'four' 'peace' 'three' 'thumbsup' 'unknown']\n",
      "\n",
      "\n",
      "Data Shape:  (96, 96, 1)\n"
     ]
    }
   ],
   "source": [
    "# Getting the length of the data \n",
    "print(\"Total input data: \", len(data))\n",
    "print(\"Total output data: \", len(labels))\n",
    "\n",
    "# Spacing in display \n",
    "!echo \" \"\n",
    "\n",
    "# Displaying the unique output/labels features \n",
    "print(\"Unique labels: \", np.unique(labels))\n",
    "print(\"\\n\")\n",
    "\n",
    "# Displaying the shape of the data \n",
    "print(\"Data Shape: \", data[0].shape)"
   ]
  },
  {
   "cell_type": "code",
   "execution_count": 5,
   "metadata": {},
   "outputs": [],
   "source": [
    "# Scaling the data for both input and output features \n",
    "data = np.array(data, dtype=\"float32\") / 255.0 \n",
    "labels = np.array(labels) \n",
    "\n",
    "# Binarize the label and scale down the class \n",
    "lb = LabelEncoder() \n",
    "encoded_labels = lb.fit_transform(labels)\n",
    "\n",
    "# Converting the encoded labels features into categorical data for easy modelling \n",
    "encoded_labels = to_categorical(encoded_labels, num_classes=len(lb.classes_))"
   ]
  },
  {
   "cell_type": "code",
   "execution_count": 6,
   "metadata": {},
   "outputs": [
    {
     "name": "stdout",
     "output_type": "stream",
     "text": [
      "Number of Classes:  7\n"
     ]
    }
   ],
   "source": [
    "# Getting the number of label classes (Output features)\n",
    "numclasses = len(lb.classes_) \n",
    "print(\"Number of Classes: \", numclasses)"
   ]
  },
  {
   "cell_type": "code",
   "execution_count": 7,
   "metadata": {},
   "outputs": [],
   "source": [
    "# Saving both the input and output features raw \n",
    "np.save(\"dataset/data\", data)\n",
    "np.save(\"dataset/labels\", labels) "
   ]
  },
  {
   "cell_type": "code",
   "execution_count": 8,
   "metadata": {},
   "outputs": [
    {
     "data": {
      "text/plain": [
       "['encoder/encoded_labels']"
      ]
     },
     "execution_count": 8,
     "metadata": {},
     "output_type": "execute_result"
    }
   ],
   "source": [
    "# Saving the encoded labels and the encoder-model \n",
    "jb.dump(lb, \"encoder/lb_encoder\")\n",
    "jb.dump(encoded_labels, \"encoder/encoded_labels\")"
   ]
  },
  {
   "cell_type": "markdown",
   "metadata": {},
   "source": [
    "<b> <h2> Loading The Serilized Model And Datasets </h2> </b> "
   ]
  },
  {
   "cell_type": "code",
   "execution_count": 18,
   "metadata": {},
   "outputs": [],
   "source": [
    "# loading the input and output features rawww \n",
    "data = np.load(\"dataset/data.npy\")\n",
    "labels = np.load(\"dataset/labels.npy\")\n",
    "\n",
    "# loading the saved encoded labels and the encoder-model \n",
    "lb = jb.load(\"encoder/lb_encoder\")"
   ]
  },
  {
   "cell_type": "code",
   "execution_count": 9,
   "metadata": {},
   "outputs": [
    {
     "name": "stdout",
     "output_type": "stream",
     "text": [
      "Label Classes Number: 7 \n",
      "Label Names: ['fist' 'five' 'four' 'peace' 'three' 'thumbsup' 'unknown']\n",
      "---------------------------------------------------------------- \n",
      "\n",
      "Input Features:  6300\n",
      "Output Features:  6300\n",
      "---------------------------------------------------------------- \n",
      "\n"
     ]
    }
   ],
   "source": [
    "# Getting the label names and the number of classes  \n",
    "print(\"Label Classes Number: {} \\nLabel Names: {}\".format(numclasses, lb.classes_))\n",
    "print(\"---------------------------------------------------------------- \\n\")\n",
    "\n",
    "# Displaying the values for the input and output features \n",
    "print(\"Input Features: \", len(data))\n",
    "print(\"Output Features: \", len(labels))\n",
    "print(\"---------------------------------------------------------------- \\n\")"
   ]
  },
  {
   "cell_type": "code",
   "execution_count": 10,
   "metadata": {},
   "outputs": [
    {
     "name": "stdout",
     "output_type": "stream",
     "text": [
      "Input Shape: (4221, 96, 96, 1), (2079, 96, 96, 1)\n",
      "Output Shape: (4221, 7), (2079, 7)\n"
     ]
    }
   ],
   "source": [
    "# Splitting the features into training and testing splits using 80% of \n",
    "# the data for training and the remaining 20% for testing \n",
    "(X_train, X_test, y_train, y_test) = train_test_split(data, encoded_labels, \n",
    "                                                     test_size=0.33, random_state=42)\n",
    "\n",
    "# Displaying the shape of both the input and output features \n",
    "print(\"Input Shape: {}, {}\".format(X_train.shape, X_test.shape)) \n",
    "print(\"Output Shape: {}, {}\".format(y_train.shape, y_test.shape))"
   ]
  },
  {
   "cell_type": "code",
   "execution_count": 11,
   "metadata": {},
   "outputs": [
    {
     "name": "stdout",
     "output_type": "stream",
     "text": [
      "Model: \"sequential\"\n",
      "_________________________________________________________________\n",
      "Layer (type)                 Output Shape              Param #   \n",
      "=================================================================\n",
      "conv2d (Conv2D)              (None, 96, 96, 32)        320       \n",
      "_________________________________________________________________\n",
      "activation (Activation)      (None, 96, 96, 32)        0         \n",
      "_________________________________________________________________\n",
      "batch_normalization (BatchNo (None, 96, 96, 32)        128       \n",
      "_________________________________________________________________\n",
      "max_pooling2d (MaxPooling2D) (None, 32, 32, 32)        0         \n",
      "_________________________________________________________________\n",
      "dropout (Dropout)            (None, 32, 32, 32)        0         \n",
      "_________________________________________________________________\n",
      "conv2d_1 (Conv2D)            (None, 32, 32, 64)        18496     \n",
      "_________________________________________________________________\n",
      "activation_1 (Activation)    (None, 32, 32, 64)        0         \n",
      "_________________________________________________________________\n",
      "batch_normalization_1 (Batch (None, 32, 32, 64)        256       \n",
      "_________________________________________________________________\n",
      "conv2d_2 (Conv2D)            (None, 32, 32, 64)        36928     \n",
      "_________________________________________________________________\n",
      "activation_2 (Activation)    (None, 32, 32, 64)        0         \n",
      "_________________________________________________________________\n",
      "batch_normalization_2 (Batch (None, 32, 32, 64)        256       \n",
      "_________________________________________________________________\n",
      "max_pooling2d_1 (MaxPooling2 (None, 16, 16, 64)        0         \n",
      "_________________________________________________________________\n",
      "dropout_1 (Dropout)          (None, 16, 16, 64)        0         \n",
      "_________________________________________________________________\n",
      "conv2d_3 (Conv2D)            (None, 16, 16, 128)       73856     \n",
      "_________________________________________________________________\n",
      "activation_3 (Activation)    (None, 16, 16, 128)       0         \n",
      "_________________________________________________________________\n",
      "batch_normalization_3 (Batch (None, 16, 16, 128)       512       \n",
      "_________________________________________________________________\n",
      "conv2d_4 (Conv2D)            (None, 16, 16, 128)       147584    \n",
      "_________________________________________________________________\n",
      "activation_4 (Activation)    (None, 16, 16, 128)       0         \n",
      "_________________________________________________________________\n",
      "batch_normalization_4 (Batch (None, 16, 16, 128)       512       \n",
      "_________________________________________________________________\n",
      "max_pooling2d_2 (MaxPooling2 (None, 8, 8, 128)         0         \n",
      "_________________________________________________________________\n",
      "dropout_2 (Dropout)          (None, 8, 8, 128)         0         \n",
      "_________________________________________________________________\n",
      "flatten (Flatten)            (None, 8192)              0         \n",
      "_________________________________________________________________\n",
      "dense (Dense)                (None, 1024)              8389632   \n",
      "_________________________________________________________________\n",
      "activation_5 (Activation)    (None, 1024)              0         \n",
      "_________________________________________________________________\n",
      "batch_normalization_5 (Batch (None, 1024)              4096      \n",
      "_________________________________________________________________\n",
      "dropout_3 (Dropout)          (None, 1024)              0         \n",
      "_________________________________________________________________\n",
      "dense_1 (Dense)              (None, 7)                 7175      \n",
      "_________________________________________________________________\n",
      "activation_6 (Activation)    (None, 7)                 0         \n",
      "=================================================================\n",
      "Total params: 8,679,751\n",
      "Trainable params: 8,676,871\n",
      "Non-trainable params: 2,880\n",
      "_________________________________________________________________\n"
     ]
    }
   ],
   "source": [
    "# import the necessary packages\n",
    "from keras.models import Sequential\n",
    "from keras.layers.normalization import BatchNormalization\n",
    "from keras.layers.convolutional import Conv2D\n",
    "from keras.layers.convolutional import MaxPooling2D\n",
    "from keras.layers.core import Activation\n",
    "from keras.layers.core import Flatten\n",
    "from keras.layers.core import Dropout\n",
    "from keras.layers.core import Dense\n",
    "from keras import backend as K\n",
    "\n",
    "# Creating a class for constructing the VGGNet model \n",
    "class SmallerVGGNet:\n",
    "    @staticmethod\n",
    "    def build(width, height, depth, classes, finalAct=\"softmax\"):\n",
    "        # initialize the model along with the input shape to be\n",
    "        # \"channels last\" and the channels dimension itself\n",
    "        model = Sequential()\n",
    "        inputShape = (height, width, depth)\n",
    "        chanDim = -1\n",
    "        \n",
    "        # CONV => RELU => POOL\n",
    "        model.add(Conv2D(32, (3, 3), padding=\"same\",\n",
    "            input_shape=inputShape))\n",
    "        model.add(Activation(\"relu\"))\n",
    "        model.add(BatchNormalization(axis=chanDim))\n",
    "        model.add(MaxPooling2D(pool_size=(3, 3)))\n",
    "        model.add(Dropout(0.25))\n",
    "\n",
    "        # (CONV => RELU) * 2 => POOL\n",
    "        model.add(Conv2D(64, (3, 3), padding=\"same\"))\n",
    "        model.add(Activation(\"relu\"))\n",
    "        model.add(BatchNormalization(axis=chanDim))\n",
    "        model.add(Conv2D(64, (3, 3), padding=\"same\"))\n",
    "        model.add(Activation(\"relu\"))\n",
    "        model.add(BatchNormalization(axis=chanDim))\n",
    "        model.add(MaxPooling2D(pool_size=(2, 2)))\n",
    "        model.add(Dropout(0.25))\n",
    "\n",
    "        # (CONV => RELU) * 2 => POOL\n",
    "        model.add(Conv2D(128, (3, 3), padding=\"same\"))\n",
    "        model.add(Activation(\"relu\"))\n",
    "        model.add(BatchNormalization(axis=chanDim))\n",
    "        model.add(Conv2D(128, (3, 3), padding=\"same\"))\n",
    "        model.add(Activation(\"relu\"))\n",
    "        model.add(BatchNormalization(axis=chanDim))\n",
    "        model.add(MaxPooling2D(pool_size=(2, 2)))\n",
    "        model.add(Dropout(0.25))\n",
    "\n",
    "        # first (and only) set of FC => RELU layers\n",
    "        model.add(Flatten())\n",
    "        model.add(Dense(1024))\n",
    "        model.add(Activation(\"relu\"))\n",
    "        model.add(BatchNormalization())\n",
    "        model.add(Dropout(0.5))\n",
    "\n",
    "        # softmax classifier\n",
    "        model.add(Dense(classes))\n",
    "        model.add(Activation(finalAct))\n",
    "\n",
    "        # return the constructed network architecture\n",
    "        return model\n",
    "    \n",
    "# Creating an instance of the SmallerVGGNet model   \n",
    "model = SmallerVGGNet().build(96, 96, 1, numclasses)\n",
    "\n",
    "\n",
    "# Compiling the model \n",
    "model.compile(optimizer='adam',\n",
    "              loss=tf.keras.losses.BinaryCrossentropy(from_logits=True),\n",
    "              metrics=['accuracy'])\n",
    "\n",
    "\n",
    "# Model summary \n",
    "model.summary() "
   ]
  },
  {
   "cell_type": "code",
   "execution_count": 12,
   "metadata": {},
   "outputs": [],
   "source": [
    "# Building the model \n",
    "# model = Sequential() \n",
    "# model.add(Conv2D(filters = 32, kernel_size=(3, 3), input_shape = (96, 96, 1)))\n",
    "# model.add(Activation(\"relu\"))\n",
    "\n",
    "# # Adding another layer \n",
    "# model.add(Conv2D(filters = 32, kernel_size=(3, 3)))\n",
    "# model.add(Activation(\"relu\"))\n",
    "# model.add(MaxPool2D(pool_size=(2, 2)))\n",
    "# model.add(Dropout(0.3))\n",
    "\n",
    "# # Adding another layer \n",
    "# model.add(Conv2D(filters = 64, kernel_size = (3, 3)))\n",
    "# model.add(Activation(\"relu\"))\n",
    "# model.add(MaxPool2D(pool_size=(2, 2)))\n",
    "# model.add(Dropout(0.3))\n",
    "\n",
    "# # Adding the last layer \n",
    "# model.add(Flatten()) \n",
    "# model.add(Dense(256, activation=\"relu\"))\n",
    "# model.add(Dense(numclasses, activation=\"softmax\"))\n",
    "\n",
    "# # Compiling the model \n",
    "# model.compile(loss=\"categorical_crossentropy\", optimizer= \"adam\", \n",
    "#              metrics = [\"accuracy\"])\n",
    "\n",
    "# Building the model \n",
    "# def DefineModel(): \n",
    "#     model = Sequential([\n",
    "#         Conv2D(32, 3, padding='same', activation='relu', input_shape=(96, 96, 1)), \n",
    "#         MaxPooling2D(), \n",
    "#         Conv2D(32, 3, padding='same', activation='relu'), \n",
    "#         MaxPooling2D(), \n",
    "#         Conv2D(64, 3, padding='same', activation='relu'), \n",
    "#         MaxPooling2D(), \n",
    "#         Flatten(), \n",
    "#         Dense(512, activation='softmax'), \n",
    "#         Dense(numclasses)\n",
    "#     ])\n",
    "    \n",
    "#     # Compiling the model \n",
    "#     model.compile(optimizer='adam',\n",
    "#                   loss=tf.keras.losses.BinaryCrossentropy(from_logits=True),\n",
    "#                   metrics=['accuracy'])\n",
    "    \n",
    "#     # Returning the model \n",
    "#     return model \n",
    "\n",
    "# # Creating the model \n",
    "# model = DefineModel() \n",
    "\n",
    "# # Displaying the summary of the model \n",
    "# model.summary() "
   ]
  },
  {
   "cell_type": "code",
   "execution_count": 36,
   "metadata": {},
   "outputs": [
    {
     "name": "stdout",
     "output_type": "stream",
     "text": [
      "Epoch 1/20\n",
      "845/845 [==============================] - 156s 185ms/step - loss: 0.6461 - accuracy: 0.9500 - val_loss: 0.6416 - val_accuracy: 0.9808\n",
      "Epoch 2/20\n",
      "845/845 [==============================] - 162s 191ms/step - loss: 0.6463 - accuracy: 0.9476 - val_loss: 0.6403 - val_accuracy: 0.9904\n",
      "Epoch 3/20\n",
      "845/845 [==============================] - 154s 182ms/step - loss: 0.6451 - accuracy: 0.9566 - val_loss: 0.6397 - val_accuracy: 0.9947\n",
      "Epoch 4/20\n",
      "845/845 [==============================] - 160s 189ms/step - loss: 0.6436 - accuracy: 0.9671 - val_loss: 0.6394 - val_accuracy: 0.9957\n",
      "Epoch 5/20\n",
      "845/845 [==============================] - 162s 192ms/step - loss: 0.6442 - accuracy: 0.9630 - val_loss: 0.6399 - val_accuracy: 0.9937\n",
      "Epoch 6/20\n",
      "845/845 [==============================] - 164s 194ms/step - loss: 0.6437 - accuracy: 0.9661 - val_loss: 0.6398 - val_accuracy: 0.9937\n",
      "Epoch 7/20\n",
      "845/845 [==============================] - 163s 193ms/step - loss: 0.6465 - accuracy: 0.9462 - val_loss: 0.6398 - val_accuracy: 0.9933\n",
      "Epoch 8/20\n",
      "845/845 [==============================] - 164s 194ms/step - loss: 0.6445 - accuracy: 0.9588 - val_loss: 0.6394 - val_accuracy: 0.9966\n",
      "Epoch 9/20\n",
      "845/845 [==============================] - 160s 189ms/step - loss: 0.6443 - accuracy: 0.9616 - val_loss: 0.6396 - val_accuracy: 0.9947\n",
      "Epoch 10/20\n",
      "845/845 [==============================] - 163s 193ms/step - loss: 0.6438 - accuracy: 0.9656 - val_loss: 0.6394 - val_accuracy: 0.9962\n",
      "Epoch 11/20\n",
      "845/845 [==============================] - 164s 194ms/step - loss: 0.6439 - accuracy: 0.9647 - val_loss: 0.6395 - val_accuracy: 0.9957\n",
      "Epoch 12/20\n",
      "845/845 [==============================] - 156s 185ms/step - loss: 0.6446 - accuracy: 0.9590 - val_loss: 0.6397 - val_accuracy: 0.9947\n",
      "Epoch 13/20\n",
      "845/845 [==============================] - 178s 211ms/step - loss: 0.6429 - accuracy: 0.9725 - val_loss: 0.6401 - val_accuracy: 0.9909\n",
      "Epoch 14/20\n",
      "845/845 [==============================] - 186s 220ms/step - loss: 0.6432 - accuracy: 0.9690 - val_loss: 0.6396 - val_accuracy: 0.9942\n",
      "Epoch 15/20\n",
      "845/845 [==============================] - 178s 211ms/step - loss: 0.6430 - accuracy: 0.9709 - val_loss: 0.6401 - val_accuracy: 0.9913\n",
      "Epoch 16/20\n",
      "845/845 [==============================] - 177s 209ms/step - loss: 0.6432 - accuracy: 0.9699 - val_loss: 0.6393 - val_accuracy: 0.9971\n",
      "Epoch 17/20\n",
      "845/845 [==============================] - 169s 199ms/step - loss: 0.6429 - accuracy: 0.9713 - val_loss: 0.6395 - val_accuracy: 0.9962\n",
      "Epoch 18/20\n",
      "845/845 [==============================] - 178s 211ms/step - loss: 0.6430 - accuracy: 0.9706 - val_loss: 0.6392 - val_accuracy: 0.9976\n",
      "Epoch 19/20\n",
      "845/845 [==============================] - 169s 200ms/step - loss: 0.6419 - accuracy: 0.9789 - val_loss: 0.6401 - val_accuracy: 0.9913\n",
      "Epoch 20/20\n",
      "845/845 [==============================] - 174s 206ms/step - loss: 0.6441 - accuracy: 0.9635 - val_loss: 0.6393 - val_accuracy: 0.9971\n"
     ]
    }
   ],
   "source": [
    "# Training the model \n",
    "H = model.fit(X_train, y_train, epochs = 20, batch_size=5, validation_data=(X_test, y_test), verbose=1)"
   ]
  },
  {
   "cell_type": "code",
   "execution_count": 37,
   "metadata": {},
   "outputs": [],
   "source": [
    "# Saving the trained model weight file \n",
    "model.save_weights(\"model/hand_gesture.h5\") "
   ]
  },
  {
   "cell_type": "code",
   "execution_count": 4,
   "metadata": {},
   "outputs": [],
   "source": [
    "# Loading the model \n",
    "model.load_weights(\"model/model2.h5\")"
   ]
  },
  {
   "cell_type": "code",
   "execution_count": 38,
   "metadata": {},
   "outputs": [
    {
     "data": {
      "image/png": "[encoded data removed]",
      "text/plain": [
       "<Figure size 432x288 with 1 Axes>"
      ]
     },
     "metadata": {
      "needs_background": "light"
     },
     "output_type": "display_data"
    }
   ],
   "source": [
    "plt.plot(H.history['loss'])\n",
    "plt.plot(H.history['val_loss'])\n",
    "plt.title('Model Loss')\n",
    "plt.ylabel('Loss')\n",
    "plt.xlabel('Epochs')\n",
    "plt.legend(['train', 'test'])\n",
    "plt.show()"
   ]
  },
  {
   "cell_type": "code",
   "execution_count": 39,
   "metadata": {},
   "outputs": [
    {
     "data": {
      "image/png": "[encoded data removed]",
      "text/plain": [
       "<Figure size 432x288 with 1 Axes>"
      ]
     },
     "metadata": {
      "needs_background": "light"
     },
     "output_type": "display_data"
    }
   ],
   "source": [
    "plt.plot(H.history['accuracy'])\n",
    "plt.plot(H.history['val_accuracy'])\n",
    "plt.title('Model Accuracy')\n",
    "plt.ylabel('Accuracy')\n",
    "plt.xlabel('Epochs')\n",
    "plt.legend(['train', 'test'])\n",
    "plt.show()"
   ]
  },
  {
   "cell_type": "code",
   "execution_count": 40,
   "metadata": {},
   "outputs": [
    {
     "name": "stdout",
     "output_type": "stream",
     "text": [
      "65/65 [==============================] - 8s 120ms/step - loss: 0.6393 - accuracy: 0.9971\n",
      "Test accuracy: 99.71%\n"
     ]
    }
   ],
   "source": [
    "#calculate loss and accuracy on test data\n",
    "\n",
    "test_loss, test_accuracy = model.evaluate(X_test, y_test)\n",
    "\n",
    "print('Test accuracy: {:2.2f}%'.format(test_accuracy*100))"
   ]
  },
  {
   "cell_type": "code",
   "execution_count": 21,
   "metadata": {},
   "outputs": [
    {
     "data": {
      "text/plain": [
       "[]"
      ]
     },
     "execution_count": 21,
     "metadata": {},
     "output_type": "execute_result"
    },
    {
     "data": {
      "image/png": "[encoded data removed]",
      "text/plain": [
       "<Figure size 720x720 with 2 Axes>"
      ]
     },
     "metadata": {
      "needs_background": "light"
     },
     "output_type": "display_data"
    }
   ],
   "source": [
    "from sklearn.metrics import confusion_matrix\n",
    "import seaborn as sn\n",
    "cat = [c[3:] for c in lb.classes_]\n",
    "plt.figure(figsize=(10,10))\n",
    "cm = confusion_matrix(np.argmax(y_test, axis=1), np.argmax(model.predict(X_test), axis=1))\n",
    "sn.heatmap(cm, annot=True,xticklabels=cat, yticklabels=cat)\n",
    "plt.plot()"
   ]
  },
  {
   "cell_type": "markdown",
   "metadata": {},
   "source": [
    "<h2> Making predictions </h2> "
   ]
  },
  {
   "cell_type": "code",
   "execution_count": 58,
   "metadata": {},
   "outputs": [
    {
     "data": {
      "image/png": "[encoded data removed]",
      "text/plain": [
       "<Figure size 1440x432 with 1 Axes>"
      ]
     },
     "metadata": {
      "needs_background": "light"
     },
     "output_type": "display_data"
    }
   ],
   "source": [
    "# loading the image \n",
    "imgPath = \"dataset/three/img817.jpg\" \n",
    "\n",
    "# Reading the pic \n",
    "img = cv2.imread(imgPath, cv2.IMREAD_GRAYSCALE)\n",
    "\n",
    "\n",
    "img = cv2.resize(img, (96, 96)); \n",
    "img = img_to_array(img) \n",
    "\n",
    "plt.figure(figsize=(20, 6))\n",
    "plt.grid(False) \n",
    "plt.imshow(img, cmap=\"hot\") \n",
    "plt.show() "
   ]
  },
  {
   "cell_type": "code",
   "execution_count": 51,
   "metadata": {},
   "outputs": [],
   "source": [
    "# Expanding the image dimensions \n",
    "img = np.expand_dims(img, axis = 0);\n",
    "\n",
    "# Getting the right predictions \n",
    "pred = model.predict(img) "
   ]
  },
  {
   "cell_type": "code",
   "execution_count": 53,
   "metadata": {},
   "outputs": [
    {
     "name": "stdout",
     "output_type": "stream",
     "text": [
      "The predicated class is: three\n"
     ]
    }
   ],
   "source": [
    "# Converting into results \n",
    "results = np.argmax(pred) \n",
    "results = lb.classes_[results]\n",
    "\n",
    "print(\"The predicated class is:\", results)"
   ]
  },
  {
   "cell_type": "code",
   "execution_count": null,
   "metadata": {
    "scrolled": true
   },
   "outputs": [],
   "source": []
  },
  {
   "cell_type": "code",
   "execution_count": null,
   "metadata": {},
   "outputs": [],
   "source": []
  }
 ],
 "metadata": {
  "kernelspec": {
   "display_name": "Python 3",
   "language": "python",
   "name": "python3"
  },
  "language_info": {
   "codemirror_mode": {
    "name": "ipython",
    "version": 3
   },
   "file_extension": ".py",
   "mimetype": "text/x-python",
   "name": "python",
   "nbconvert_exporter": "python",
   "pygments_lexer": "ipython3",
   "version": "3.6.10"
  }
 },
 "nbformat": 4,
 "nbformat_minor": 4
}
