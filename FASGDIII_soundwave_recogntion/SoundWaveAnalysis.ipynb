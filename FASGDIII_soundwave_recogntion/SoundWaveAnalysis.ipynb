{
 "cells": [
  {
   "cell_type": "code",
   "execution_count": 1,
   "metadata": {},
   "outputs": [],
   "source": [
    "#!/usr/bin/env python3 "
   ]
  },
  {
   "cell_type": "code",
   "execution_count": 7,
   "metadata": {},
   "outputs": [],
   "source": [
    "# Author: Mbonu Chinedum Endurance \n",
    "# Team: TEAM-358-GROUP-A \n",
    "# Description: FASGD-III (Sound Wave Analysis) \n",
    "# Program: ANDELA BUILD FOR SDG COHORT-2 2020 \n",
    "# Country: Nigeria \n",
    "# Date Created: 5-sep-2020 \n",
    "# Date Modified: "
   ]
  },
  {
   "cell_type": "code",
   "execution_count": 1,
   "metadata": {},
   "outputs": [],
   "source": [
    "# Importing the necessary modules \n",
    "import os \n",
    "import wave\n",
    "import librosa \n",
    "import numpy as np\n",
    "import pandas as pd \n",
    "import pickle as pkl \n",
    "import soundfile as sf \n",
    "import matplotlib.pyplot as plt \n",
    "from pydub import AudioSegment \n",
    "from sklearn.model_selection import train_test_split \n",
    "from keras.utils import np_utils\n",
    "from tensorflow.keras.optimizers import Adam \n",
    "from sklearn.preprocessing import LabelEncoder \n",
    "from tensorflow.keras.models import Sequential \n",
    "from sklearn.preprocessing import StandardScaler \n",
    "from tensorflow.keras.utils import to_categorical \n",
    "from tensorflow.keras.layers import Dense, Activation, Dropout \n",
    "from tensorflow.keras.layers import Convolution2D, Conv2D, MaxPooling2D, GlobalAveragePooling2D "
   ]
  },
  {
   "cell_type": "code",
   "execution_count": 2,
   "metadata": {},
   "outputs": [],
   "source": [
    "# Converting the songs into wav formats and getting the path \n",
    "# to the working directory \n",
    "path = \"dataset\"\n",
    "\n",
    "# Setting path to the audio files and converting them into wav formats \n",
    "chinedu_voices_dir = os.path.sep.join([path, \"chinedu_voices\"])\n",
    "unknown_voices_dir = os.path.sep.join([path, \"unknown_voices\"])\n",
    "\n",
    "# Creating a function for converting the voices into wav format \n",
    "def convert_to_wav(audio_voice, saved_path):\n",
    "    # Converting the mp3 file into a wav file \n",
    "    sound = AudioSegment.from_file(audio_voice) \n",
    "    # Exporting the converted mp3 files to a new folder \n",
    "    sound.export(saved_path, format=\"wav\")\n",
    "    \n",
    "    "
   ]
  },
  {
   "cell_type": "code",
   "execution_count": 236,
   "metadata": {},
   "outputs": [
    {
     "name": "stdout",
     "output_type": "stream",
     "text": [
      "The value converted: 504\n"
     ]
    }
   ],
   "source": [
    "# Converting the mp3 files into wav format for the unknown voices \n",
    "unknown_count = 0 \n",
    "\n",
    "# listing all the mp3 files in the unknown directory \n",
    "for songs in sorted(os.listdir(unknown_voices_dir)): \n",
    "    # Getting the full path name for pre-processing \n",
    "    full_path = os.path.sep.join([unknown_voices_dir, songs])\n",
    "    # Setting the path to the new directory for the converted mp3 to wav \n",
    "    saved_to = \"dataset/unknown_wav/00{}.wav\".format(unknown_count) \n",
    "    # Converting and saving it to disk \n",
    "    convert_to_wav(full_path, saved_to) \n",
    "    # Incrementing the count by one. \n",
    "    unknown_count += 1 \n",
    "    \n",
    "# Value for converted mp3 files \n",
    "print(\"The value converted:\", unknown_count)                "
   ]
  },
  {
   "cell_type": "code",
   "execution_count": 3,
   "metadata": {},
   "outputs": [
    {
     "name": "stdout",
     "output_type": "stream",
     "text": [
      "The value converted for chinedu voices:  108\n"
     ]
    }
   ],
   "source": [
    "# Converting the mp3 files into wav format for chinedu voices \n",
    "chinedu_count = 0 \n",
    "\n",
    "# Listing all the mp3 files in chinedu voice directory \n",
    "for songs in sorted(os.listdir(chinedu_voices_dir)): \n",
    "    # Getting the full path name for pre-processing \n",
    "    full_path = os.path.sep.join([chinedu_voices_dir, songs])\n",
    "    # Setting the path to the new directory for the converted mp3 to wav \n",
    "    saved_to = \"dataset/chinedu_wav/000{}.wav\".format(chinedu_count) \n",
    "    # Converting the mp3 file into a wav file \n",
    "    sound = AudioSegment.from_file(full_path) \n",
    "    # Exporting the converted mp3 files to a new folder \n",
    "    sound.export(saved_to, format=\"wav\")\n",
    "    # Incrementing the count by one. \n",
    "    chinedu_count += 1 \n",
    "    \n",
    "# Value for chinedu mp3 voice file \n",
    "print(\"The value converted for chinedu voices: \", chinedu_count)  "
   ]
  },
  {
   "cell_type": "markdown",
   "metadata": {},
   "source": [
    "<h1> <b> Feature Extraction </b> </h1> "
   ]
  },
  {
   "cell_type": "code",
   "execution_count": 4,
   "metadata": {},
   "outputs": [],
   "source": [
    "# Creating a list to hold both the labels and features \n",
    "label = list() \n",
    "data = list() \n",
    "\n",
    "# Setting the count for both chinedu and unknown to have a \n",
    "# Value of zero. \n",
    "unknown_count = 0 \n",
    "chinedu_count = 0 \n",
    "\n",
    "# Getting the features for the audio wav files by converting the wav files \n",
    "# Into a numpy array for easy modelling. \n",
    "def get_features(wav_name): \n",
    "    # Making a condition only if the wav_name is not None \n",
    "    if wav_name: \n",
    "        X, sample_rate = librosa.load(wav_name, res_type='kaiser_fast') \n",
    "        # X, sample_rate = sf.read(wav_name) \n",
    "        \n",
    "    # Converting the loaded data into a numpy array \n",
    "    loaded_data = librosa.feature.mfcc(y=X, sr=sample_rate, n_mfcc=40) \n",
    "    scaled_data = np.mean(loaded_data.T, axis=0)  \n",
    "    # Returning the scaled data value \n",
    "    return scaled_data \n",
    "\n"
   ]
  },
  {
   "cell_type": "code",
   "execution_count": 5,
   "metadata": {},
   "outputs": [],
   "source": [
    "# Getting the full path to chinedu wav voices  \n",
    "chinedu_voice = os.path.sep.join([path, \"chinedu_wav\"])\n",
    "\n",
    "# Working with the wav files for chinedu voice \n",
    "for wav_files in os.listdir(chinedu_voice): \n",
    "    # Getting the full path \n",
    "    full_path = os.path.sep.join([chinedu_voice, wav_files])\n",
    "    tag = full_path.split(os.path.sep)[-2].split(\"_\")[0]\n",
    "    \n",
    "    # Extracting the data features \n",
    "    mfccs = np.asarray(get_features(full_path)) \n",
    "    \n",
    "        \n",
    "    # Appending the values for the tag and data \n",
    "    # to the data list and label list \n",
    "    label.append(tag)\n",
    "    data.append(mfccs)\n",
    "    \n",
    "    # Increasing the count by 1 \n",
    "    chinedu_count += 1 \n",
    "   \n"
   ]
  },
  {
   "cell_type": "code",
   "execution_count": 6,
   "metadata": {},
   "outputs": [],
   "source": [
    "# Getting the full path to the unknown wav voices \n",
    "unknown_voice = os.path.sep.join([path, \"unknown_wav\"])\n",
    "\n",
    "# Getting the full path to the wav files for the unknown voices  \n",
    "for wav_files in os.listdir(unknown_voice): \n",
    "    # Getting the full path \n",
    "    full_path = os.path.sep.join([unknown_voice, wav_files])\n",
    "    tag = full_path.split(os.path.sep)[-2].split(\"_\")[0]\n",
    "    \n",
    "    # Extracting the data features \n",
    "    loaded_data = get_features(full_path)\n",
    "    \n",
    "    # Appending the values for the tag and data \n",
    "    # to the data list and label list \n",
    "    label.append(tag) \n",
    "    data.append(loaded_data) \n",
    "    \n",
    "    # Increasing the count by 1 \n",
    "    unknown_count += 1 \n",
    "  \n"
   ]
  },
  {
   "cell_type": "markdown",
   "metadata": {},
   "source": [
    "# Scaling the data down"
   ]
  },
  {
   "cell_type": "code",
   "execution_count": 7,
   "metadata": {},
   "outputs": [
    {
     "name": "stdout",
     "output_type": "stream",
     "text": [
      "Label length:  612\n",
      "Data Length:  612\n"
     ]
    }
   ],
   "source": [
    "# Displaying the number of labels and features loaded into memory \n",
    "print(\"Label length: \", len(label))\n",
    "print(\"Data Length: \", len(data))\n",
    "\n",
    "# Making the input and output features \n",
    "X = np.array(data) \n",
    "y = np.array(label) \n",
    "\n",
    "# Scaling down for easy modelling by our neural network \n",
    "scaler = StandardScaler() \n",
    "# Encoding for the target or label features \n",
    "lb = LabelEncoder() \n",
    "\n",
    "# Fitting the data and scaling down \n",
    "X_scaled = scaler.fit_transform(X) \n",
    "y_scaled = lb.fit_transform(y)  \n",
    "\n",
    "# Converting the \"y_scaled\" value into categorical values for easy modelling by our neural net \n",
    "y_scaled = to_categorical(y_scaled, 2) "
   ]
  },
  {
   "cell_type": "code",
   "execution_count": 8,
   "metadata": {},
   "outputs": [],
   "source": [
    "# Saving the encoders \n",
    "encoders = (scaler, lb)\n",
    "\n",
    "# Serilization \n",
    "filename = \"encoders/label_encoder\"\n",
    "np.save(filename, encoders) "
   ]
  },
  {
   "cell_type": "code",
   "execution_count": 9,
   "metadata": {},
   "outputs": [
    {
     "name": "stdout",
     "output_type": "stream",
     "text": [
      "Scaled input shape:  (612, 40)\n",
      "Scaled output shape:  (612, 2)\n"
     ]
    }
   ],
   "source": [
    "# Displaying the shape of the encoded values for both input and output features \n",
    "print(\"Scaled input shape: \", X_scaled.shape); \n",
    "print(\"Scaled output shape: \", y_scaled.shape); "
   ]
  },
  {
   "cell_type": "code",
   "execution_count": 10,
   "metadata": {},
   "outputs": [
    {
     "name": "stdout",
     "output_type": "stream",
     "text": [
      "Input Shape: (410, 40), (202, 40)\n",
      "Output Shape: (410, 2), (202, 2)\n"
     ]
    }
   ],
   "source": [
    "# Splitting the input and output features into train test split \n",
    "X_train, X_test, y_train, y_test = train_test_split(X_scaled, y_scaled,\n",
    "                                                    test_size=0.33, random_state=20) \n",
    "\n",
    "# Displaying the shape of the training and testing data for both the input(X) and \n",
    "# Output (y) features \n",
    "print(\"Input Shape: {}, {}\".format(X_train.shape, X_test.shape)); \n",
    "print(\"Output Shape: {}, {}\".format(y_train.shape, y_test.shape)); "
   ]
  },
  {
   "cell_type": "markdown",
   "metadata": {},
   "source": [
    "# MODEL BUILDING "
   ]
  },
  {
   "cell_type": "code",
   "execution_count": 30,
   "metadata": {},
   "outputs": [
    {
     "name": "stdout",
     "output_type": "stream",
     "text": [
      "Model: \"sequential_1\"\n",
      "_________________________________________________________________\n",
      "Layer (type)                 Output Shape              Param #   \n",
      "=================================================================\n",
      "dense_3 (Dense)              (None, 250)               10250     \n",
      "_________________________________________________________________\n",
      "dropout_2 (Dropout)          (None, 250)               0         \n",
      "_________________________________________________________________\n",
      "dense_4 (Dense)              (None, 128)               32128     \n",
      "_________________________________________________________________\n",
      "dropout_3 (Dropout)          (None, 128)               0         \n",
      "_________________________________________________________________\n",
      "dense_5 (Dense)              (None, 2)                 258       \n",
      "=================================================================\n",
      "Total params: 42,636\n",
      "Trainable params: 42,636\n",
      "Non-trainable params: 0\n",
      "_________________________________________________________________\n"
     ]
    }
   ],
   "source": [
    "# Setting the input dimension for the model \n",
    "input_dim = (X_train.shape[1], ) \n",
    "\n",
    "# Setting the ouput dimension for the model \n",
    "output_dim = y_train.shape[1]\n",
    "\n",
    "# Creating an instance of the sequential model \n",
    "model = Sequential() \n",
    "model.add(Dense(250, input_shape=input_dim, activation=\"relu\"))\n",
    "model.add(Dropout(0.1))\n",
    "\n",
    "# model.add(Dense(128, activation=\"relu\"))\n",
    "# model.add(Dropout(0.25))\n",
    "\n",
    "model.add(Dense(128, activation=\"relu\"))\n",
    "model.add(Dropout(0.5))\n",
    "\n",
    "model.add(Dense(2, activation=\"sigmoid\"))\n",
    "\n",
    "# Compiling the model \n",
    "model.compile(loss=\"binary_crossentropy\", metrics=[\"accuracy\"], optimizer=\"adam\")\n",
    "\n",
    "# Model summary \n",
    "model.summary() "
   ]
  },
  {
   "cell_type": "code",
   "execution_count": 31,
   "metadata": {
    "collapsed": true,
    "jupyter": {
     "outputs_hidden": true
    }
   },
   "outputs": [
    {
     "name": "stdout",
     "output_type": "stream",
     "text": [
      "Epoch 1/200\n",
      "13/13 [==============================] - 0s 20ms/step - loss: 0.4001 - accuracy: 0.8439 - val_loss: 0.2477 - val_accuracy: 0.9109\n",
      "Epoch 2/200\n",
      "13/13 [==============================] - 0s 6ms/step - loss: 0.1424 - accuracy: 0.9610 - val_loss: 0.1332 - val_accuracy: 0.9802\n",
      "Epoch 3/200\n",
      "13/13 [==============================] - 0s 6ms/step - loss: 0.0802 - accuracy: 0.9927 - val_loss: 0.0731 - val_accuracy: 0.9752\n",
      "Epoch 4/200\n",
      "13/13 [==============================] - 0s 5ms/step - loss: 0.0496 - accuracy: 0.9927 - val_loss: 0.0470 - val_accuracy: 0.9802\n",
      "Epoch 5/200\n",
      "13/13 [==============================] - 0s 6ms/step - loss: 0.0272 - accuracy: 0.9951 - val_loss: 0.0312 - val_accuracy: 0.9901\n",
      "Epoch 6/200\n",
      "13/13 [==============================] - 0s 6ms/step - loss: 0.0222 - accuracy: 0.9951 - val_loss: 0.0232 - val_accuracy: 0.9901\n",
      "Epoch 7/200\n",
      "13/13 [==============================] - 0s 5ms/step - loss: 0.0140 - accuracy: 0.9976 - val_loss: 0.0176 - val_accuracy: 0.9901\n",
      "Epoch 8/200\n",
      "13/13 [==============================] - 0s 5ms/step - loss: 0.0077 - accuracy: 1.0000 - val_loss: 0.0155 - val_accuracy: 0.9901\n",
      "Epoch 9/200\n",
      "13/13 [==============================] - 0s 5ms/step - loss: 0.0055 - accuracy: 1.0000 - val_loss: 0.0138 - val_accuracy: 0.9901\n",
      "Epoch 10/200\n",
      "13/13 [==============================] - 0s 5ms/step - loss: 0.0051 - accuracy: 1.0000 - val_loss: 0.0122 - val_accuracy: 0.9901\n",
      "Epoch 11/200\n",
      "13/13 [==============================] - 0s 5ms/step - loss: 0.0046 - accuracy: 1.0000 - val_loss: 0.0113 - val_accuracy: 0.9901\n",
      "Epoch 12/200\n",
      "13/13 [==============================] - 0s 5ms/step - loss: 0.0029 - accuracy: 1.0000 - val_loss: 0.0113 - val_accuracy: 0.9901\n",
      "Epoch 13/200\n",
      "13/13 [==============================] - 0s 6ms/step - loss: 0.0032 - accuracy: 1.0000 - val_loss: 0.0111 - val_accuracy: 0.9901\n",
      "Epoch 14/200\n",
      "13/13 [==============================] - 0s 5ms/step - loss: 0.0019 - accuracy: 1.0000 - val_loss: 0.0108 - val_accuracy: 0.9950\n",
      "Epoch 15/200\n",
      "13/13 [==============================] - 0s 6ms/step - loss: 0.0018 - accuracy: 1.0000 - val_loss: 0.0102 - val_accuracy: 0.9950\n",
      "Epoch 16/200\n",
      "13/13 [==============================] - 0s 5ms/step - loss: 0.0014 - accuracy: 1.0000 - val_loss: 0.0100 - val_accuracy: 0.9950\n",
      "Epoch 17/200\n",
      "13/13 [==============================] - 0s 6ms/step - loss: 0.0014 - accuracy: 1.0000 - val_loss: 0.0098 - val_accuracy: 0.9950\n",
      "Epoch 18/200\n",
      "13/13 [==============================] - 0s 5ms/step - loss: 0.0025 - accuracy: 1.0000 - val_loss: 0.0092 - val_accuracy: 0.9950\n",
      "Epoch 19/200\n",
      "13/13 [==============================] - 0s 5ms/step - loss: 0.0014 - accuracy: 1.0000 - val_loss: 0.0088 - val_accuracy: 0.9950\n",
      "Epoch 20/200\n",
      "13/13 [==============================] - 0s 12ms/step - loss: 0.0014 - accuracy: 1.0000 - val_loss: 0.0082 - val_accuracy: 0.9950\n",
      "Epoch 21/200\n",
      "13/13 [==============================] - 0s 9ms/step - loss: 0.0014 - accuracy: 1.0000 - val_loss: 0.0079 - val_accuracy: 0.9950\n",
      "Epoch 22/200\n",
      "13/13 [==============================] - 0s 9ms/step - loss: 0.0011 - accuracy: 1.0000 - val_loss: 0.0075 - val_accuracy: 0.9950\n",
      "Epoch 23/200\n",
      "13/13 [==============================] - 0s 12ms/step - loss: 6.2381e-04 - accuracy: 1.0000 - val_loss: 0.0073 - val_accuracy: 0.9950\n",
      "Epoch 24/200\n",
      "13/13 [==============================] - 0s 7ms/step - loss: 9.3681e-04 - accuracy: 1.0000 - val_loss: 0.0075 - val_accuracy: 0.9950\n",
      "Epoch 25/200\n",
      "13/13 [==============================] - 0s 8ms/step - loss: 6.5705e-04 - accuracy: 1.0000 - val_loss: 0.0077 - val_accuracy: 0.9950\n",
      "Epoch 26/200\n",
      "13/13 [==============================] - 0s 6ms/step - loss: 6.2815e-04 - accuracy: 1.0000 - val_loss: 0.0078 - val_accuracy: 0.9950\n",
      "Epoch 27/200\n",
      "13/13 [==============================] - 0s 6ms/step - loss: 6.8588e-04 - accuracy: 1.0000 - val_loss: 0.0075 - val_accuracy: 0.9950\n",
      "Epoch 28/200\n",
      "13/13 [==============================] - 0s 7ms/step - loss: 6.0933e-04 - accuracy: 1.0000 - val_loss: 0.0072 - val_accuracy: 0.9950\n",
      "Epoch 29/200\n",
      "13/13 [==============================] - 0s 7ms/step - loss: 3.6165e-04 - accuracy: 1.0000 - val_loss: 0.0072 - val_accuracy: 0.9950\n",
      "Epoch 30/200\n",
      "13/13 [==============================] - 0s 5ms/step - loss: 3.0746e-04 - accuracy: 1.0000 - val_loss: 0.0071 - val_accuracy: 0.9950\n",
      "Epoch 31/200\n",
      "13/13 [==============================] - 0s 8ms/step - loss: 4.4091e-04 - accuracy: 1.0000 - val_loss: 0.0070 - val_accuracy: 0.9950\n",
      "Epoch 32/200\n",
      "13/13 [==============================] - 0s 6ms/step - loss: 6.6162e-04 - accuracy: 1.0000 - val_loss: 0.0068 - val_accuracy: 0.9950\n",
      "Epoch 33/200\n",
      "13/13 [==============================] - 0s 7ms/step - loss: 2.8241e-04 - accuracy: 1.0000 - val_loss: 0.0069 - val_accuracy: 0.9950\n",
      "Epoch 34/200\n",
      "13/13 [==============================] - 0s 7ms/step - loss: 2.2473e-04 - accuracy: 1.0000 - val_loss: 0.0069 - val_accuracy: 0.9950\n",
      "Epoch 35/200\n",
      "13/13 [==============================] - 0s 11ms/step - loss: 1.9733e-04 - accuracy: 1.0000 - val_loss: 0.0069 - val_accuracy: 0.9950\n",
      "Epoch 36/200\n",
      "13/13 [==============================] - 0s 11ms/step - loss: 4.0322e-04 - accuracy: 1.0000 - val_loss: 0.0071 - val_accuracy: 0.9950\n",
      "Epoch 37/200\n",
      "13/13 [==============================] - 0s 10ms/step - loss: 4.3691e-04 - accuracy: 1.0000 - val_loss: 0.0070 - val_accuracy: 0.9950\n",
      "Epoch 38/200\n",
      "13/13 [==============================] - 0s 11ms/step - loss: 3.1150e-04 - accuracy: 1.0000 - val_loss: 0.0065 - val_accuracy: 0.9950\n",
      "Epoch 39/200\n",
      "13/13 [==============================] - 0s 6ms/step - loss: 2.8634e-04 - accuracy: 1.0000 - val_loss: 0.0063 - val_accuracy: 0.9950\n",
      "Epoch 40/200\n",
      "13/13 [==============================] - 0s 6ms/step - loss: 2.8022e-04 - accuracy: 1.0000 - val_loss: 0.0062 - val_accuracy: 0.9950\n",
      "Epoch 41/200\n",
      "13/13 [==============================] - 0s 7ms/step - loss: 1.8025e-04 - accuracy: 1.0000 - val_loss: 0.0060 - val_accuracy: 0.9950\n",
      "Epoch 42/200\n",
      "13/13 [==============================] - 0s 6ms/step - loss: 2.7256e-04 - accuracy: 1.0000 - val_loss: 0.0059 - val_accuracy: 0.9950\n",
      "Epoch 43/200\n",
      "13/13 [==============================] - 0s 9ms/step - loss: 5.3861e-04 - accuracy: 1.0000 - val_loss: 0.0053 - val_accuracy: 1.0000\n",
      "Epoch 44/200\n",
      "13/13 [==============================] - 0s 7ms/step - loss: 3.9050e-04 - accuracy: 1.0000 - val_loss: 0.0049 - val_accuracy: 1.0000\n",
      "Epoch 45/200\n",
      "13/13 [==============================] - 0s 8ms/step - loss: 2.5371e-04 - accuracy: 1.0000 - val_loss: 0.0048 - val_accuracy: 1.0000\n",
      "Epoch 46/200\n",
      "13/13 [==============================] - 0s 8ms/step - loss: 2.8452e-04 - accuracy: 1.0000 - val_loss: 0.0042 - val_accuracy: 1.0000\n",
      "Epoch 47/200\n",
      "13/13 [==============================] - 0s 10ms/step - loss: 1.0163e-04 - accuracy: 1.0000 - val_loss: 0.0040 - val_accuracy: 1.0000\n",
      "Epoch 48/200\n",
      "13/13 [==============================] - 0s 7ms/step - loss: 1.3975e-04 - accuracy: 1.0000 - val_loss: 0.0040 - val_accuracy: 1.0000\n",
      "Epoch 49/200\n",
      "13/13 [==============================] - 0s 6ms/step - loss: 1.6560e-04 - accuracy: 1.0000 - val_loss: 0.0039 - val_accuracy: 1.0000\n",
      "Epoch 50/200\n",
      "13/13 [==============================] - 0s 9ms/step - loss: 1.3296e-04 - accuracy: 1.0000 - val_loss: 0.0039 - val_accuracy: 1.0000\n",
      "Epoch 51/200\n",
      "13/13 [==============================] - 0s 10ms/step - loss: 1.9470e-04 - accuracy: 1.0000 - val_loss: 0.0041 - val_accuracy: 1.0000\n",
      "Epoch 52/200\n",
      "13/13 [==============================] - 0s 6ms/step - loss: 1.2679e-04 - accuracy: 1.0000 - val_loss: 0.0043 - val_accuracy: 1.0000\n",
      "Epoch 53/200\n",
      "13/13 [==============================] - 0s 6ms/step - loss: 9.0137e-05 - accuracy: 1.0000 - val_loss: 0.0045 - val_accuracy: 1.0000\n",
      "Epoch 54/200\n",
      "13/13 [==============================] - 0s 5ms/step - loss: 1.0064e-04 - accuracy: 1.0000 - val_loss: 0.0045 - val_accuracy: 1.0000\n",
      "Epoch 55/200\n",
      "13/13 [==============================] - 0s 7ms/step - loss: 1.3564e-04 - accuracy: 1.0000 - val_loss: 0.0044 - val_accuracy: 1.0000\n",
      "Epoch 56/200\n",
      "13/13 [==============================] - 0s 11ms/step - loss: 1.0892e-04 - accuracy: 1.0000 - val_loss: 0.0044 - val_accuracy: 1.0000\n",
      "Epoch 57/200\n",
      "13/13 [==============================] - 0s 9ms/step - loss: 1.1694e-04 - accuracy: 1.0000 - val_loss: 0.0044 - val_accuracy: 1.0000\n",
      "Epoch 58/200\n",
      "13/13 [==============================] - 0s 9ms/step - loss: 1.1097e-04 - accuracy: 1.0000 - val_loss: 0.0046 - val_accuracy: 1.0000\n",
      "Epoch 59/200\n",
      "13/13 [==============================] - 0s 12ms/step - loss: 1.2435e-04 - accuracy: 1.0000 - val_loss: 0.0046 - val_accuracy: 1.0000\n",
      "Epoch 60/200\n",
      "13/13 [==============================] - 0s 9ms/step - loss: 7.4361e-05 - accuracy: 1.0000 - val_loss: 0.0046 - val_accuracy: 1.0000\n",
      "Epoch 61/200\n",
      "13/13 [==============================] - 0s 7ms/step - loss: 7.3950e-05 - accuracy: 1.0000 - val_loss: 0.0047 - val_accuracy: 1.0000\n",
      "Epoch 62/200\n",
      "13/13 [==============================] - 0s 6ms/step - loss: 9.2821e-05 - accuracy: 1.0000 - val_loss: 0.0047 - val_accuracy: 1.0000\n",
      "Epoch 63/200\n",
      "13/13 [==============================] - 0s 6ms/step - loss: 7.3125e-05 - accuracy: 1.0000 - val_loss: 0.0046 - val_accuracy: 1.0000\n",
      "Epoch 64/200\n",
      "13/13 [==============================] - 0s 6ms/step - loss: 1.9231e-04 - accuracy: 1.0000 - val_loss: 0.0047 - val_accuracy: 1.0000\n",
      "Epoch 65/200\n",
      "13/13 [==============================] - 0s 7ms/step - loss: 1.3220e-04 - accuracy: 1.0000 - val_loss: 0.0050 - val_accuracy: 0.9950\n",
      "Epoch 66/200\n",
      "13/13 [==============================] - 0s 8ms/step - loss: 6.5315e-05 - accuracy: 1.0000 - val_loss: 0.0051 - val_accuracy: 1.0000\n",
      "Epoch 67/200\n",
      "13/13 [==============================] - 0s 8ms/step - loss: 6.1225e-05 - accuracy: 1.0000 - val_loss: 0.0052 - val_accuracy: 1.0000\n",
      "Epoch 68/200\n",
      "13/13 [==============================] - 0s 6ms/step - loss: 8.4976e-05 - accuracy: 1.0000 - val_loss: 0.0052 - val_accuracy: 1.0000\n",
      "Epoch 69/200\n",
      "13/13 [==============================] - 0s 6ms/step - loss: 3.0811e-04 - accuracy: 1.0000 - val_loss: 0.0055 - val_accuracy: 0.9950\n",
      "Epoch 70/200\n",
      "13/13 [==============================] - 0s 10ms/step - loss: 8.0049e-05 - accuracy: 1.0000 - val_loss: 0.0058 - val_accuracy: 0.9950\n",
      "Epoch 71/200\n",
      "13/13 [==============================] - 0s 9ms/step - loss: 5.3664e-05 - accuracy: 1.0000 - val_loss: 0.0059 - val_accuracy: 0.9950\n",
      "Epoch 72/200\n",
      "13/13 [==============================] - 0s 6ms/step - loss: 2.9322e-05 - accuracy: 1.0000 - val_loss: 0.0058 - val_accuracy: 0.9950\n",
      "Epoch 73/200\n",
      "13/13 [==============================] - 0s 6ms/step - loss: 6.9644e-05 - accuracy: 1.0000 - val_loss: 0.0057 - val_accuracy: 0.9950\n",
      "Epoch 74/200\n",
      "13/13 [==============================] - 0s 7ms/step - loss: 5.0300e-05 - accuracy: 1.0000 - val_loss: 0.0055 - val_accuracy: 0.9950\n",
      "Epoch 75/200\n",
      "13/13 [==============================] - 0s 6ms/step - loss: 6.3282e-05 - accuracy: 1.0000 - val_loss: 0.0055 - val_accuracy: 0.9950\n",
      "Epoch 76/200\n",
      "13/13 [==============================] - 0s 7ms/step - loss: 1.2610e-04 - accuracy: 1.0000 - val_loss: 0.0053 - val_accuracy: 0.9950\n",
      "Epoch 77/200\n",
      "13/13 [==============================] - 0s 7ms/step - loss: 8.8812e-05 - accuracy: 1.0000 - val_loss: 0.0051 - val_accuracy: 0.9950\n",
      "Epoch 78/200\n",
      "13/13 [==============================] - 0s 7ms/step - loss: 4.9994e-05 - accuracy: 1.0000 - val_loss: 0.0051 - val_accuracy: 0.9950\n",
      "Epoch 79/200\n",
      "13/13 [==============================] - 0s 8ms/step - loss: 5.5411e-05 - accuracy: 1.0000 - val_loss: 0.0050 - val_accuracy: 0.9950\n",
      "Epoch 80/200\n",
      "13/13 [==============================] - 0s 8ms/step - loss: 5.0473e-05 - accuracy: 1.0000 - val_loss: 0.0050 - val_accuracy: 0.9950\n",
      "Epoch 81/200\n",
      "13/13 [==============================] - 0s 8ms/step - loss: 1.7897e-04 - accuracy: 1.0000 - val_loss: 0.0059 - val_accuracy: 0.9950\n",
      "Epoch 82/200\n",
      "13/13 [==============================] - 0s 8ms/step - loss: 3.8541e-05 - accuracy: 1.0000 - val_loss: 0.0063 - val_accuracy: 0.9950\n",
      "Epoch 83/200\n",
      "13/13 [==============================] - 0s 9ms/step - loss: 6.1531e-05 - accuracy: 1.0000 - val_loss: 0.0062 - val_accuracy: 0.9950\n",
      "Epoch 84/200\n",
      "13/13 [==============================] - 0s 9ms/step - loss: 5.5534e-05 - accuracy: 1.0000 - val_loss: 0.0061 - val_accuracy: 0.9950\n",
      "Epoch 85/200\n",
      "13/13 [==============================] - 0s 8ms/step - loss: 4.4148e-05 - accuracy: 1.0000 - val_loss: 0.0059 - val_accuracy: 0.9950\n",
      "Epoch 86/200\n",
      "13/13 [==============================] - 0s 8ms/step - loss: 7.6016e-05 - accuracy: 1.0000 - val_loss: 0.0058 - val_accuracy: 0.9950\n",
      "Epoch 87/200\n",
      "13/13 [==============================] - 0s 7ms/step - loss: 3.6558e-05 - accuracy: 1.0000 - val_loss: 0.0057 - val_accuracy: 0.9950\n",
      "Epoch 88/200\n",
      "13/13 [==============================] - 0s 6ms/step - loss: 1.2602e-04 - accuracy: 1.0000 - val_loss: 0.0054 - val_accuracy: 0.9950\n",
      "Epoch 89/200\n",
      "13/13 [==============================] - 0s 6ms/step - loss: 3.0961e-05 - accuracy: 1.0000 - val_loss: 0.0055 - val_accuracy: 0.9950\n",
      "Epoch 90/200\n",
      "13/13 [==============================] - 0s 7ms/step - loss: 6.4187e-05 - accuracy: 1.0000 - val_loss: 0.0055 - val_accuracy: 0.9950\n",
      "Epoch 91/200\n",
      "13/13 [==============================] - 0s 7ms/step - loss: 5.0966e-05 - accuracy: 1.0000 - val_loss: 0.0054 - val_accuracy: 0.9950\n",
      "Epoch 92/200\n",
      "13/13 [==============================] - 0s 10ms/step - loss: 3.9706e-05 - accuracy: 1.0000 - val_loss: 0.0053 - val_accuracy: 0.9950\n",
      "Epoch 93/200\n",
      "13/13 [==============================] - 0s 9ms/step - loss: 2.0649e-05 - accuracy: 1.0000 - val_loss: 0.0053 - val_accuracy: 0.9950\n",
      "Epoch 94/200\n",
      "13/13 [==============================] - 0s 9ms/step - loss: 4.0636e-05 - accuracy: 1.0000 - val_loss: 0.0052 - val_accuracy: 0.9950\n",
      "Epoch 95/200\n",
      "13/13 [==============================] - 0s 7ms/step - loss: 3.4293e-05 - accuracy: 1.0000 - val_loss: 0.0052 - val_accuracy: 0.9950\n",
      "Epoch 96/200\n",
      "13/13 [==============================] - 0s 7ms/step - loss: 7.6228e-05 - accuracy: 1.0000 - val_loss: 0.0050 - val_accuracy: 0.9950\n",
      "Epoch 97/200\n",
      "13/13 [==============================] - 0s 6ms/step - loss: 3.2900e-05 - accuracy: 1.0000 - val_loss: 0.0049 - val_accuracy: 0.9950\n",
      "Epoch 98/200\n",
      "13/13 [==============================] - 0s 7ms/step - loss: 2.4255e-05 - accuracy: 1.0000 - val_loss: 0.0048 - val_accuracy: 0.9950\n",
      "Epoch 99/200\n",
      "13/13 [==============================] - 0s 6ms/step - loss: 4.2995e-05 - accuracy: 1.0000 - val_loss: 0.0048 - val_accuracy: 0.9950\n",
      "Epoch 100/200\n",
      "13/13 [==============================] - 0s 6ms/step - loss: 1.8688e-05 - accuracy: 1.0000 - val_loss: 0.0048 - val_accuracy: 0.9950\n",
      "Epoch 101/200\n",
      "13/13 [==============================] - 0s 7ms/step - loss: 1.0147e-04 - accuracy: 1.0000 - val_loss: 0.0045 - val_accuracy: 1.0000\n",
      "Epoch 102/200\n",
      "13/13 [==============================] - 0s 9ms/step - loss: 4.5165e-05 - accuracy: 1.0000 - val_loss: 0.0044 - val_accuracy: 1.0000\n",
      "Epoch 103/200\n",
      "13/13 [==============================] - 0s 9ms/step - loss: 1.3032e-05 - accuracy: 1.0000 - val_loss: 0.0044 - val_accuracy: 1.0000\n",
      "Epoch 104/200\n",
      "13/13 [==============================] - 0s 9ms/step - loss: 1.7702e-05 - accuracy: 1.0000 - val_loss: 0.0044 - val_accuracy: 1.0000\n",
      "Epoch 105/200\n",
      "13/13 [==============================] - 0s 8ms/step - loss: 3.6110e-05 - accuracy: 1.0000 - val_loss: 0.0044 - val_accuracy: 1.0000\n",
      "Epoch 106/200\n",
      "13/13 [==============================] - 0s 6ms/step - loss: 3.8078e-05 - accuracy: 1.0000 - val_loss: 0.0043 - val_accuracy: 1.0000\n",
      "Epoch 107/200\n",
      "13/13 [==============================] - 0s 7ms/step - loss: 2.4556e-05 - accuracy: 1.0000 - val_loss: 0.0043 - val_accuracy: 1.0000\n",
      "Epoch 108/200\n",
      "13/13 [==============================] - 0s 6ms/step - loss: 2.4193e-05 - accuracy: 1.0000 - val_loss: 0.0044 - val_accuracy: 1.0000\n",
      "Epoch 109/200\n",
      "13/13 [==============================] - 0s 7ms/step - loss: 2.4511e-05 - accuracy: 1.0000 - val_loss: 0.0044 - val_accuracy: 1.0000\n",
      "Epoch 110/200\n",
      "13/13 [==============================] - 0s 6ms/step - loss: 2.3842e-05 - accuracy: 1.0000 - val_loss: 0.0044 - val_accuracy: 1.0000\n",
      "Epoch 111/200\n",
      "13/13 [==============================] - 0s 6ms/step - loss: 4.5386e-05 - accuracy: 1.0000 - val_loss: 0.0044 - val_accuracy: 1.0000\n",
      "Epoch 112/200\n",
      "13/13 [==============================] - 0s 6ms/step - loss: 2.3112e-05 - accuracy: 1.0000 - val_loss: 0.0044 - val_accuracy: 1.0000\n",
      "Epoch 113/200\n",
      "13/13 [==============================] - 0s 6ms/step - loss: 2.5845e-05 - accuracy: 1.0000 - val_loss: 0.0044 - val_accuracy: 1.0000\n",
      "Epoch 114/200\n",
      "13/13 [==============================] - 0s 9ms/step - loss: 2.6978e-05 - accuracy: 1.0000 - val_loss: 0.0045 - val_accuracy: 1.0000\n",
      "Epoch 115/200\n",
      "13/13 [==============================] - 0s 9ms/step - loss: 1.8108e-05 - accuracy: 1.0000 - val_loss: 0.0044 - val_accuracy: 1.0000\n",
      "Epoch 116/200\n",
      "13/13 [==============================] - 0s 7ms/step - loss: 2.9332e-05 - accuracy: 1.0000 - val_loss: 0.0044 - val_accuracy: 1.0000\n",
      "Epoch 117/200\n",
      "13/13 [==============================] - 0s 6ms/step - loss: 4.7488e-05 - accuracy: 1.0000 - val_loss: 0.0044 - val_accuracy: 1.0000\n",
      "Epoch 118/200\n",
      "13/13 [==============================] - 0s 8ms/step - loss: 1.9844e-05 - accuracy: 1.0000 - val_loss: 0.0044 - val_accuracy: 1.0000\n",
      "Epoch 119/200\n",
      "13/13 [==============================] - 0s 6ms/step - loss: 3.3406e-05 - accuracy: 1.0000 - val_loss: 0.0045 - val_accuracy: 1.0000\n",
      "Epoch 120/200\n",
      "13/13 [==============================] - 0s 7ms/step - loss: 5.4597e-05 - accuracy: 1.0000 - val_loss: 0.0045 - val_accuracy: 1.0000\n",
      "Epoch 121/200\n",
      "13/13 [==============================] - 0s 8ms/step - loss: 1.6036e-05 - accuracy: 1.0000 - val_loss: 0.0044 - val_accuracy: 1.0000\n",
      "Epoch 122/200\n",
      "13/13 [==============================] - 0s 8ms/step - loss: 1.1780e-05 - accuracy: 1.0000 - val_loss: 0.0045 - val_accuracy: 1.0000\n",
      "Epoch 123/200\n",
      "13/13 [==============================] - 0s 8ms/step - loss: 2.2736e-05 - accuracy: 1.0000 - val_loss: 0.0045 - val_accuracy: 1.0000\n",
      "Epoch 124/200\n",
      "13/13 [==============================] - 0s 7ms/step - loss: 2.3192e-05 - accuracy: 1.0000 - val_loss: 0.0044 - val_accuracy: 1.0000\n",
      "Epoch 125/200\n",
      "13/13 [==============================] - 0s 6ms/step - loss: 2.8747e-05 - accuracy: 1.0000 - val_loss: 0.0044 - val_accuracy: 1.0000\n",
      "Epoch 126/200\n",
      "13/13 [==============================] - 0s 6ms/step - loss: 2.7280e-05 - accuracy: 1.0000 - val_loss: 0.0044 - val_accuracy: 1.0000\n",
      "Epoch 127/200\n",
      "13/13 [==============================] - 0s 7ms/step - loss: 1.8715e-05 - accuracy: 1.0000 - val_loss: 0.0044 - val_accuracy: 1.0000\n",
      "Epoch 128/200\n",
      "13/13 [==============================] - 0s 7ms/step - loss: 1.2786e-05 - accuracy: 1.0000 - val_loss: 0.0044 - val_accuracy: 1.0000\n",
      "Epoch 129/200\n",
      "13/13 [==============================] - 0s 8ms/step - loss: 1.9728e-05 - accuracy: 1.0000 - val_loss: 0.0044 - val_accuracy: 1.0000\n",
      "Epoch 130/200\n",
      "13/13 [==============================] - 0s 7ms/step - loss: 3.8991e-05 - accuracy: 1.0000 - val_loss: 0.0045 - val_accuracy: 1.0000\n",
      "Epoch 131/200\n",
      "13/13 [==============================] - 0s 7ms/step - loss: 1.2303e-05 - accuracy: 1.0000 - val_loss: 0.0046 - val_accuracy: 1.0000\n",
      "Epoch 132/200\n",
      "13/13 [==============================] - 0s 7ms/step - loss: 3.2245e-05 - accuracy: 1.0000 - val_loss: 0.0046 - val_accuracy: 1.0000\n",
      "Epoch 133/200\n",
      "13/13 [==============================] - 0s 6ms/step - loss: 1.5314e-05 - accuracy: 1.0000 - val_loss: 0.0047 - val_accuracy: 0.9950\n",
      "Epoch 134/200\n",
      "13/13 [==============================] - 0s 6ms/step - loss: 1.2209e-05 - accuracy: 1.0000 - val_loss: 0.0048 - val_accuracy: 0.9950\n",
      "Epoch 135/200\n",
      "13/13 [==============================] - 0s 9ms/step - loss: 2.2227e-05 - accuracy: 1.0000 - val_loss: 0.0047 - val_accuracy: 1.0000\n",
      "Epoch 136/200\n",
      "13/13 [==============================] - 0s 8ms/step - loss: 1.1754e-05 - accuracy: 1.0000 - val_loss: 0.0047 - val_accuracy: 1.0000\n",
      "Epoch 137/200\n",
      "13/13 [==============================] - 0s 9ms/step - loss: 2.8706e-05 - accuracy: 1.0000 - val_loss: 0.0046 - val_accuracy: 1.0000\n",
      "Epoch 138/200\n",
      "13/13 [==============================] - 0s 8ms/step - loss: 1.7242e-05 - accuracy: 1.0000 - val_loss: 0.0047 - val_accuracy: 1.0000\n",
      "Epoch 139/200\n",
      "13/13 [==============================] - 0s 6ms/step - loss: 1.0899e-05 - accuracy: 1.0000 - val_loss: 0.0047 - val_accuracy: 1.0000\n",
      "Epoch 140/200\n",
      "13/13 [==============================] - 0s 6ms/step - loss: 1.0025e-05 - accuracy: 1.0000 - val_loss: 0.0047 - val_accuracy: 1.0000\n",
      "Epoch 141/200\n",
      "13/13 [==============================] - 0s 6ms/step - loss: 9.9115e-06 - accuracy: 1.0000 - val_loss: 0.0048 - val_accuracy: 1.0000\n",
      "Epoch 142/200\n",
      "13/13 [==============================] - 0s 7ms/step - loss: 1.0776e-05 - accuracy: 1.0000 - val_loss: 0.0047 - val_accuracy: 1.0000\n",
      "Epoch 143/200\n",
      "13/13 [==============================] - 0s 6ms/step - loss: 1.0977e-05 - accuracy: 1.0000 - val_loss: 0.0048 - val_accuracy: 1.0000\n",
      "Epoch 144/200\n",
      "13/13 [==============================] - 0s 10ms/step - loss: 1.5546e-05 - accuracy: 1.0000 - val_loss: 0.0048 - val_accuracy: 1.0000\n",
      "Epoch 145/200\n",
      "13/13 [==============================] - 0s 7ms/step - loss: 2.0774e-05 - accuracy: 1.0000 - val_loss: 0.0048 - val_accuracy: 1.0000\n",
      "Epoch 146/200\n",
      "13/13 [==============================] - 0s 6ms/step - loss: 2.0800e-05 - accuracy: 1.0000 - val_loss: 0.0047 - val_accuracy: 1.0000\n",
      "Epoch 147/200\n",
      "13/13 [==============================] - 0s 7ms/step - loss: 3.0454e-05 - accuracy: 1.0000 - val_loss: 0.0045 - val_accuracy: 1.0000\n",
      "Epoch 148/200\n",
      "13/13 [==============================] - 0s 8ms/step - loss: 1.7273e-05 - accuracy: 1.0000 - val_loss: 0.0045 - val_accuracy: 1.0000\n",
      "Epoch 149/200\n",
      "13/13 [==============================] - 0s 9ms/step - loss: 2.0468e-05 - accuracy: 1.0000 - val_loss: 0.0044 - val_accuracy: 1.0000\n",
      "Epoch 150/200\n",
      "13/13 [==============================] - 0s 10ms/step - loss: 2.1757e-05 - accuracy: 1.0000 - val_loss: 0.0045 - val_accuracy: 1.0000\n",
      "Epoch 151/200\n",
      "13/13 [==============================] - 0s 10ms/step - loss: 1.4574e-05 - accuracy: 1.0000 - val_loss: 0.0046 - val_accuracy: 0.9950\n",
      "Epoch 152/200\n",
      "13/13 [==============================] - 0s 6ms/step - loss: 1.1384e-05 - accuracy: 1.0000 - val_loss: 0.0047 - val_accuracy: 0.9950\n",
      "Epoch 153/200\n",
      "13/13 [==============================] - 0s 6ms/step - loss: 1.0222e-05 - accuracy: 1.0000 - val_loss: 0.0047 - val_accuracy: 0.9950\n",
      "Epoch 154/200\n",
      "13/13 [==============================] - 0s 7ms/step - loss: 8.9712e-06 - accuracy: 1.0000 - val_loss: 0.0048 - val_accuracy: 0.9950\n",
      "Epoch 155/200\n",
      "13/13 [==============================] - 0s 8ms/step - loss: 1.2542e-05 - accuracy: 1.0000 - val_loss: 0.0048 - val_accuracy: 0.9950\n",
      "Epoch 156/200\n",
      "13/13 [==============================] - 0s 8ms/step - loss: 7.6115e-06 - accuracy: 1.0000 - val_loss: 0.0048 - val_accuracy: 0.9950\n",
      "Epoch 157/200\n",
      "13/13 [==============================] - 0s 9ms/step - loss: 9.6659e-06 - accuracy: 1.0000 - val_loss: 0.0048 - val_accuracy: 0.9950\n",
      "Epoch 158/200\n",
      "13/13 [==============================] - 0s 7ms/step - loss: 1.2751e-05 - accuracy: 1.0000 - val_loss: 0.0048 - val_accuracy: 0.9950\n",
      "Epoch 159/200\n",
      "13/13 [==============================] - 0s 7ms/step - loss: 3.6779e-05 - accuracy: 1.0000 - val_loss: 0.0048 - val_accuracy: 0.9950\n",
      "Epoch 160/200\n",
      "13/13 [==============================] - 0s 9ms/step - loss: 1.4173e-05 - accuracy: 1.0000 - val_loss: 0.0049 - val_accuracy: 0.9950\n",
      "Epoch 161/200\n",
      "13/13 [==============================] - 0s 9ms/step - loss: 8.6509e-06 - accuracy: 1.0000 - val_loss: 0.0049 - val_accuracy: 0.9950\n",
      "Epoch 162/200\n",
      "13/13 [==============================] - 0s 8ms/step - loss: 5.9930e-06 - accuracy: 1.0000 - val_loss: 0.0049 - val_accuracy: 0.9950\n",
      "Epoch 163/200\n",
      "13/13 [==============================] - 0s 6ms/step - loss: 2.2992e-05 - accuracy: 1.0000 - val_loss: 0.0048 - val_accuracy: 0.9950\n",
      "Epoch 164/200\n",
      "13/13 [==============================] - 0s 6ms/step - loss: 7.8076e-06 - accuracy: 1.0000 - val_loss: 0.0049 - val_accuracy: 0.9950\n",
      "Epoch 165/200\n",
      "13/13 [==============================] - 0s 6ms/step - loss: 1.3313e-05 - accuracy: 1.0000 - val_loss: 0.0048 - val_accuracy: 0.9950\n",
      "Epoch 166/200\n",
      "13/13 [==============================] - 0s 6ms/step - loss: 1.9932e-05 - accuracy: 1.0000 - val_loss: 0.0048 - val_accuracy: 0.9950\n",
      "Epoch 167/200\n",
      "13/13 [==============================] - 0s 6ms/step - loss: 9.6748e-06 - accuracy: 1.0000 - val_loss: 0.0047 - val_accuracy: 0.9950\n",
      "Epoch 168/200\n",
      "13/13 [==============================] - 0s 6ms/step - loss: 1.4614e-05 - accuracy: 1.0000 - val_loss: 0.0047 - val_accuracy: 0.9950\n",
      "Epoch 169/200\n",
      "13/13 [==============================] - 0s 8ms/step - loss: 9.2964e-06 - accuracy: 1.0000 - val_loss: 0.0046 - val_accuracy: 0.9950\n",
      "Epoch 170/200\n",
      "13/13 [==============================] - 0s 8ms/step - loss: 2.4417e-05 - accuracy: 1.0000 - val_loss: 0.0046 - val_accuracy: 0.9950\n",
      "Epoch 171/200\n",
      "13/13 [==============================] - 0s 7ms/step - loss: 7.1928e-06 - accuracy: 1.0000 - val_loss: 0.0046 - val_accuracy: 0.9950\n",
      "Epoch 172/200\n",
      "13/13 [==============================] - 0s 10ms/step - loss: 1.9794e-05 - accuracy: 1.0000 - val_loss: 0.0045 - val_accuracy: 0.9950\n",
      "Epoch 173/200\n",
      "13/13 [==============================] - 0s 7ms/step - loss: 6.3603e-06 - accuracy: 1.0000 - val_loss: 0.0045 - val_accuracy: 0.9950\n",
      "Epoch 174/200\n",
      "13/13 [==============================] - 0s 5ms/step - loss: 8.0189e-06 - accuracy: 1.0000 - val_loss: 0.0045 - val_accuracy: 0.9950\n",
      "Epoch 175/200\n",
      "13/13 [==============================] - 0s 6ms/step - loss: 3.1129e-05 - accuracy: 1.0000 - val_loss: 0.0044 - val_accuracy: 0.9950\n",
      "Epoch 176/200\n",
      "13/13 [==============================] - 0s 6ms/step - loss: 1.0025e-05 - accuracy: 1.0000 - val_loss: 0.0043 - val_accuracy: 1.0000\n",
      "Epoch 177/200\n",
      "13/13 [==============================] - 0s 6ms/step - loss: 5.1245e-05 - accuracy: 1.0000 - val_loss: 0.0042 - val_accuracy: 0.9950\n",
      "Epoch 178/200\n",
      "13/13 [==============================] - 0s 6ms/step - loss: 7.0445e-06 - accuracy: 1.0000 - val_loss: 0.0041 - val_accuracy: 0.9950\n",
      "Epoch 179/200\n",
      "13/13 [==============================] - 0s 6ms/step - loss: 1.0643e-05 - accuracy: 1.0000 - val_loss: 0.0042 - val_accuracy: 0.9950\n",
      "Epoch 180/200\n",
      "13/13 [==============================] - 0s 7ms/step - loss: 1.4446e-05 - accuracy: 1.0000 - val_loss: 0.0041 - val_accuracy: 0.9950\n",
      "Epoch 181/200\n",
      "13/13 [==============================] - 0s 6ms/step - loss: 3.8389e-06 - accuracy: 1.0000 - val_loss: 0.0040 - val_accuracy: 0.9950\n",
      "Epoch 182/200\n",
      "13/13 [==============================] - 0s 6ms/step - loss: 4.1463e-06 - accuracy: 1.0000 - val_loss: 0.0040 - val_accuracy: 0.9950\n",
      "Epoch 183/200\n",
      "13/13 [==============================] - 0s 5ms/step - loss: 1.5601e-05 - accuracy: 1.0000 - val_loss: 0.0038 - val_accuracy: 0.9950\n",
      "Epoch 184/200\n",
      "13/13 [==============================] - 0s 6ms/step - loss: 6.0438e-06 - accuracy: 1.0000 - val_loss: 0.0038 - val_accuracy: 0.9950\n",
      "Epoch 185/200\n",
      "13/13 [==============================] - 0s 7ms/step - loss: 1.0205e-05 - accuracy: 1.0000 - val_loss: 0.0037 - val_accuracy: 0.9950\n",
      "Epoch 186/200\n",
      "13/13 [==============================] - 0s 7ms/step - loss: 1.2884e-05 - accuracy: 1.0000 - val_loss: 0.0036 - val_accuracy: 1.0000\n",
      "Epoch 187/200\n",
      "13/13 [==============================] - 0s 6ms/step - loss: 8.1511e-06 - accuracy: 1.0000 - val_loss: 0.0036 - val_accuracy: 1.0000\n",
      "Epoch 188/200\n",
      "13/13 [==============================] - 0s 6ms/step - loss: 6.2998e-06 - accuracy: 1.0000 - val_loss: 0.0036 - val_accuracy: 1.0000\n",
      "Epoch 189/200\n",
      "13/13 [==============================] - 0s 5ms/step - loss: 3.7919e-05 - accuracy: 1.0000 - val_loss: 0.0036 - val_accuracy: 1.0000\n",
      "Epoch 190/200\n",
      "13/13 [==============================] - 0s 5ms/step - loss: 7.5171e-06 - accuracy: 1.0000 - val_loss: 0.0036 - val_accuracy: 1.0000\n",
      "Epoch 191/200\n",
      "13/13 [==============================] - 0s 5ms/step - loss: 1.3224e-05 - accuracy: 1.0000 - val_loss: 0.0035 - val_accuracy: 1.0000\n",
      "Epoch 192/200\n",
      "13/13 [==============================] - 0s 5ms/step - loss: 8.2053e-06 - accuracy: 1.0000 - val_loss: 0.0034 - val_accuracy: 1.0000\n",
      "Epoch 193/200\n",
      "13/13 [==============================] - 0s 5ms/step - loss: 5.2607e-06 - accuracy: 1.0000 - val_loss: 0.0034 - val_accuracy: 1.0000\n",
      "Epoch 194/200\n",
      "13/13 [==============================] - 0s 5ms/step - loss: 4.7564e-06 - accuracy: 1.0000 - val_loss: 0.0035 - val_accuracy: 1.0000\n",
      "Epoch 195/200\n",
      "13/13 [==============================] - 0s 6ms/step - loss: 4.9828e-06 - accuracy: 1.0000 - val_loss: 0.0034 - val_accuracy: 1.0000\n",
      "Epoch 196/200\n",
      "13/13 [==============================] - 0s 6ms/step - loss: 5.0996e-06 - accuracy: 1.0000 - val_loss: 0.0034 - val_accuracy: 1.0000\n",
      "Epoch 197/200\n",
      "13/13 [==============================] - 0s 7ms/step - loss: 5.0765e-06 - accuracy: 1.0000 - val_loss: 0.0033 - val_accuracy: 1.0000\n",
      "Epoch 198/200\n",
      "13/13 [==============================] - 0s 5ms/step - loss: 1.4889e-05 - accuracy: 1.0000 - val_loss: 0.0033 - val_accuracy: 1.0000\n",
      "Epoch 199/200\n",
      "13/13 [==============================] - 0s 5ms/step - loss: 3.6292e-06 - accuracy: 1.0000 - val_loss: 0.0032 - val_accuracy: 1.0000\n",
      "Epoch 200/200\n",
      "13/13 [==============================] - 0s 7ms/step - loss: 7.3962e-06 - accuracy: 1.0000 - val_loss: 0.0032 - val_accuracy: 1.0000\n"
     ]
    }
   ],
   "source": [
    "# Setthing the number of epochs \n",
    "epoch = 200\n",
    "\n",
    "# Training the model \n",
    "H = model.fit(X_train, y_train, batch_size=32, epochs=epoch, validation_data=(X_test, y_test), verbose=1) "
   ]
  },
  {
   "cell_type": "code",
   "execution_count": 48,
   "metadata": {},
   "outputs": [
    {
     "data": {
      "image/png": "[encoded data removed]",
      "text/plain": [
       "<Figure size 1440x576 with 1 Axes>"
      ]
     },
     "metadata": {},
     "output_type": "display_data"
    }
   ],
   "source": [
    "# Displaying the the training session on a plot \n",
    "plt.style.use(\"ggplot\") \n",
    "\n",
    "# Getting the accuracy and the validation accuracy \n",
    "acc = H.history[\"accuracy\"]\n",
    "val_acc = H.history[\"val_accuracy\"]\n",
    "\n",
    "# Getting the loss and the validation loss \n",
    "loss = H.history[\"loss\"]\n",
    "val_loss = H.history[\"val_loss\"] \n",
    "\n",
    "# Getting the epochs range \n",
    "epoch_range = list(range(len(H.history[\"accuracy\"])))\n",
    "\n",
    "# Plotting the first graph for the accuracy \n",
    "plt.figure(figsize=(20, 8)) \n",
    "plt.plot(epoch_range, acc, label = \"Training Accuracy\") \n",
    "plt.plot(epoch_range, val_acc, label = \"Validation Accuracy\") \n",
    "plt.grid(True) \n",
    "plt.xlabel(\"Epochs\") \n",
    "plt.ylabel(\"Accuracy\") \n",
    "plt.legend(loc=\"lower right\") \n",
    "plt.title(\"Training And Validation Accuracy\") \n",
    "plt.show() "
   ]
  },
  {
   "cell_type": "code",
   "execution_count": 49,
   "metadata": {},
   "outputs": [
    {
     "data": {
      "image/png": "[encoded data removed]",
      "text/plain": [
       "<Figure size 1440x576 with 1 Axes>"
      ]
     },
     "metadata": {},
     "output_type": "display_data"
    }
   ],
   "source": [
    "# Plotting the second graph for loss \n",
    "plt.figure(figsize=(20, 8))\n",
    "plt.plot(epoch_range, loss, label = \"Training Loss\") \n",
    "plt.plot(epoch_range, val_loss, label = \"Validation Loss\") \n",
    "plt.xlabel(\"Epochs\") \n",
    "plt.ylabel(\"Loss\") \n",
    "plt.legend(loc=\"upper left\") \n",
    "plt.title(\"Training And Validation Loss\")                        \n",
    "plt.show(); "
   ]
  },
  {
   "cell_type": "code",
   "execution_count": 50,
   "metadata": {},
   "outputs": [],
   "source": [
    "nedu = \"dataset/chinedu_wav/000100.wav\"\n",
    "unknown = \"dataset/unknown_wav/008.wav\"\n",
    "\n",
    "# loading the sound wav file into memory and extracting all its features \n",
    "loaded_data = get_features(nedu)\n",
    "\n",
    "# Reshaping the data \n",
    "loaded_data = loaded_data.reshape(1, -1)\n",
    "\n",
    "# Scaling \n",
    "loaded_data = scaler.transform(loaded_data)"
   ]
  },
  {
   "cell_type": "code",
   "execution_count": 51,
   "metadata": {},
   "outputs": [
    {
     "name": "stdout",
     "output_type": "stream",
     "text": [
      "chinedu\n"
     ]
    }
   ],
   "source": [
    "# Making predictions \n",
    "pred = np.argmax(model.predict(loaded_data))\n",
    "results = lb.classes_[pred]\n",
    "\n",
    "# Displaying the result \n",
    "print(results)"
   ]
  },
  {
   "cell_type": "code",
   "execution_count": 52,
   "metadata": {},
   "outputs": [
    {
     "data": {
      "text/plain": [
       "array([[1.000000e+00, 8.831517e-09]], dtype=float32)"
      ]
     },
     "execution_count": 52,
     "metadata": {},
     "output_type": "execute_result"
    }
   ],
   "source": [
    "model.predict(loaded_data)"
   ]
  },
  {
   "cell_type": "code",
   "execution_count": 53,
   "metadata": {},
   "outputs": [
    {
     "data": {
      "text/plain": [
       "array(['chinedu', 'unknown'], dtype='<U7')"
      ]
     },
     "execution_count": 53,
     "metadata": {},
     "output_type": "execute_result"
    }
   ],
   "source": [
    "lb.classes_"
   ]
  },
  {
   "cell_type": "code",
   "execution_count": 54,
   "metadata": {},
   "outputs": [
    {
     "name": "stdout",
     "output_type": "stream",
     "text": [
      "Unknown value predicted percentage: 0.000\n",
      "Chinedu value predicted percentage: 100.000\n"
     ]
    }
   ],
   "source": [
    "# Finding the predicted values percentage probabilities \n",
    "i = model.predict(loaded_data)[0]\n",
    "\n",
    "# Converting into a list \n",
    "i = list(i)\n",
    "\n",
    "# Chinedu prediction percentage \n",
    "chinedu_perc = i[0] * 100 \n",
    "\n",
    "# Unknown perdiction precentage \n",
    "unknown_perc = i[1] * 100 \n",
    "\n",
    "# Displaying the values \n",
    "print(\"Unknown value predicted percentage: {:.3f}\".format(unknown_perc)) \n",
    "print(\"Chinedu value predicted percentage: {:.3f}\".format(chinedu_perc))"
   ]
  },
  {
   "cell_type": "code",
   "execution_count": 59,
   "metadata": {},
   "outputs": [],
   "source": [
    "# Saving the model \n",
    "filename = \"model/voice_recognition.h5\" \n",
    "\n",
    "# Save model file \n",
    "model.save_weights(filename)"
   ]
  },
  {
   "cell_type": "code",
   "execution_count": null,
   "metadata": {},
   "outputs": [],
   "source": []
  },
  {
   "cell_type": "code",
   "execution_count": 62,
   "metadata": {},
   "outputs": [
    {
     "name": "stdout",
     "output_type": "stream",
     "text": [
      "<tensorflow.python.keras.engine.sequential.Sequential object at 0x7f29eb1b2080>\n"
     ]
    }
   ],
   "source": [
    "print(model)"
   ]
  },
  {
   "cell_type": "code",
   "execution_count": null,
   "metadata": {},
   "outputs": [],
   "source": []
  }
 ],
 "metadata": {
  "kernelspec": {
   "display_name": "Python 3",
   "language": "python",
   "name": "python3"
  },
  "language_info": {
   "codemirror_mode": {
    "name": "ipython",
    "version": 3
   },
   "file_extension": ".py",
   "mimetype": "text/x-python",
   "name": "python",
   "nbconvert_exporter": "python",
   "pygments_lexer": "ipython3",
   "version": "3.6.10"
  }
 },
 "nbformat": 4,
 "nbformat_minor": 4
}
