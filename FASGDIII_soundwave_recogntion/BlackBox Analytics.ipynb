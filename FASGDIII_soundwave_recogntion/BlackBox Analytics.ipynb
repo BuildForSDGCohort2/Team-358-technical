{
 "cells": [
  {
   "cell_type": "code",
   "execution_count": 1,
   "metadata": {},
   "outputs": [],
   "source": [
    "#!/usr/bin/env python3 "
   ]
  },
  {
   "cell_type": "code",
   "execution_count": 70,
   "metadata": {},
   "outputs": [],
   "source": [
    "# Author: Mbonu Chinedum Endurance \n",
    "# Team: TEAM-358-GROUP-A \n",
    "# Description: FASGD-III (Sound Wave Analysis) \n",
    "# Program: ANDELA BUILD FOR SDG COHORT-2 2020 \n",
    "# Country: Nigeria \n",
    "# Date Created: 5-sep-2020 \n",
    "# Date Modified: "
   ]
  },
  {
   "cell_type": "code",
   "execution_count": 49,
   "metadata": {},
   "outputs": [],
   "source": [
    "# importing the necessary packages \n",
    "import os \n",
    "import re\n",
    "import string\n",
    "import pandas as pd \n",
    "import numpy as np \n",
    "import seaborn as sns \n",
    "import matplotlib.pyplot as plt \n",
    "import pickle \n",
    "from sklearn.preprocessing import LabelEncoder\n",
    "from sklearn.feature_extraction.text import CountVectorizer, TfidfVectorizer\n",
    "from sklearn.model_selection import train_test_split \n",
    "from tensorflow.keras.layers import Dense, Activation, Dropout \n",
    "from tensorflow.keras.models import Sequential \n",
    "from tensorflow.keras.utils import to_categorical "
   ]
  },
  {
   "cell_type": "code",
   "execution_count": 50,
   "metadata": {},
   "outputs": [],
   "source": [
    "# Creating the data and labels lists \n",
    "data = list() \n",
    "labels = list() \n",
    "\n",
    "\n",
    "# listing the items in the dataset \n",
    "dirs = os.listdir(\"dataset/\")\n",
    "\n",
    "# Using a for-loop to extract data sentences from each respective labels \n",
    "for label in dirs:\n",
    "    # Getting the full path to the label dataset and split at the end of a line. \n",
    "    full_path = os.path.sep.join([\"dataset\", label])\n",
    "    features = open(full_path, \"r\").read().split(\"\\n\")\n",
    "\n",
    "    # For each sentence in the loaded labels dataset, append the value into the data list \n",
    "    # And its labels. \n",
    "    for sentences in features:\n",
    "        data.append(sentences) \n",
    "        labels.append(label)\n",
    "\n",
    "\n"
   ]
  },
  {
   "cell_type": "code",
   "execution_count": 51,
   "metadata": {},
   "outputs": [],
   "source": [
    "# Converting the data, and labels list into an array \n",
    "data = np.array(data) \n",
    "labels = np.array(labels) \n",
    "\n",
    "# Converting both the labels, and data numpy arrray into a pandas Dataframe \n",
    "df1 = pd.DataFrame(labels) \n",
    "df2 = pd.DataFrame(data)\n",
    "\n",
    "# Converting both pandasData frame into a single data frame using the concat \n",
    "# Method inside the pandas class \n",
    "df = pd.concat([df1, df2], axis=1)"
   ]
  },
  {
   "cell_type": "code",
   "execution_count": 52,
   "metadata": {},
   "outputs": [
    {
     "data": {
      "text/html": [
       "<div>\n",
       "<style scoped>\n",
       "    .dataframe tbody tr th:only-of-type {\n",
       "        vertical-align: middle;\n",
       "    }\n",
       "\n",
       "    .dataframe tbody tr th {\n",
       "        vertical-align: top;\n",
       "    }\n",
       "\n",
       "    .dataframe thead th {\n",
       "        text-align: right;\n",
       "    }\n",
       "</style>\n",
       "<table border=\"1\" class=\"dataframe\">\n",
       "  <thead>\n",
       "    <tr style=\"text-align: right;\">\n",
       "      <th></th>\n",
       "      <th>label</th>\n",
       "      <th>message</th>\n",
       "    </tr>\n",
       "  </thead>\n",
       "  <tbody>\n",
       "    <tr>\n",
       "      <th>0</th>\n",
       "      <td>greetings</td>\n",
       "      <td>Sunrises are beautiful just like you, and i wi...</td>\n",
       "    </tr>\n",
       "    <tr>\n",
       "      <th>1</th>\n",
       "      <td>greetings</td>\n",
       "      <td>Good morning to a wonderful soul, wish you spr...</td>\n",
       "    </tr>\n",
       "    <tr>\n",
       "      <th>2</th>\n",
       "      <td>greetings</td>\n",
       "      <td>May your day be filled with laughter, morning.</td>\n",
       "    </tr>\n",
       "    <tr>\n",
       "      <th>3</th>\n",
       "      <td>greetings</td>\n",
       "      <td>A very good morning to you may this day bring ...</td>\n",
       "    </tr>\n",
       "    <tr>\n",
       "      <th>4</th>\n",
       "      <td>greetings</td>\n",
       "      <td>Good morning darling, hope when you open your ...</td>\n",
       "    </tr>\n",
       "  </tbody>\n",
       "</table>\n",
       "</div>"
      ],
      "text/plain": [
       "       label                                            message\n",
       "0  greetings  Sunrises are beautiful just like you, and i wi...\n",
       "1  greetings  Good morning to a wonderful soul, wish you spr...\n",
       "2  greetings     May your day be filled with laughter, morning.\n",
       "3  greetings  A very good morning to you may this day bring ...\n",
       "4  greetings  Good morning darling, hope when you open your ..."
      ]
     },
     "execution_count": 52,
     "metadata": {},
     "output_type": "execute_result"
    }
   ],
   "source": [
    "df.columns = [\"label\", \"message\"]\n",
    "df.head() "
   ]
  },
  {
   "cell_type": "code",
   "execution_count": 53,
   "metadata": {},
   "outputs": [
    {
     "data": {
      "text/plain": [
       "array(['greetings', 'unknown', 'age', 'task', 'password', 'goodbye',\n",
       "       'name'], dtype=object)"
      ]
     },
     "execution_count": 53,
     "metadata": {},
     "output_type": "execute_result"
    }
   ],
   "source": [
    "df[\"label\"].unique() "
   ]
  },
  {
   "cell_type": "code",
   "execution_count": 54,
   "metadata": {},
   "outputs": [
    {
     "data": {
      "text/plain": [
       "unknown      1001\n",
       "name         1001\n",
       "age          1001\n",
       "greetings    1001\n",
       "goodbye      1001\n",
       "task         1001\n",
       "password     1001\n",
       "Name: label, dtype: int64"
      ]
     },
     "execution_count": 54,
     "metadata": {},
     "output_type": "execute_result"
    }
   ],
   "source": [
    "df[\"label\"].value_counts() "
   ]
  },
  {
   "cell_type": "code",
   "execution_count": 55,
   "metadata": {},
   "outputs": [
    {
     "data": {
      "text/plain": [
       "label      7007\n",
       "message    7007\n",
       "dtype: int64"
      ]
     },
     "execution_count": 55,
     "metadata": {},
     "output_type": "execute_result"
    }
   ],
   "source": [
    "df.count() "
   ]
  },
  {
   "cell_type": "code",
   "execution_count": 56,
   "metadata": {},
   "outputs": [],
   "source": [
    "t_age = df[df[\"label\"] == \"age\"] "
   ]
  },
  {
   "cell_type": "code",
   "execution_count": 57,
   "metadata": {},
   "outputs": [
    {
     "data": {
      "text/html": [
       "<div>\n",
       "<style scoped>\n",
       "    .dataframe tbody tr th:only-of-type {\n",
       "        vertical-align: middle;\n",
       "    }\n",
       "\n",
       "    .dataframe tbody tr th {\n",
       "        vertical-align: top;\n",
       "    }\n",
       "\n",
       "    .dataframe thead th {\n",
       "        text-align: right;\n",
       "    }\n",
       "</style>\n",
       "<table border=\"1\" class=\"dataframe\">\n",
       "  <thead>\n",
       "    <tr style=\"text-align: right;\">\n",
       "      <th></th>\n",
       "      <th>label</th>\n",
       "      <th>message</th>\n",
       "    </tr>\n",
       "  </thead>\n",
       "  <tbody>\n",
       "    <tr>\n",
       "      <th>2002</th>\n",
       "      <td>age</td>\n",
       "      <td>How old are you?</td>\n",
       "    </tr>\n",
       "    <tr>\n",
       "      <th>2003</th>\n",
       "      <td>age</td>\n",
       "      <td>Do you mind if I ask how old you are?</td>\n",
       "    </tr>\n",
       "    <tr>\n",
       "      <th>2004</th>\n",
       "      <td>age</td>\n",
       "      <td>What is your age?</td>\n",
       "    </tr>\n",
       "    <tr>\n",
       "      <th>2005</th>\n",
       "      <td>age</td>\n",
       "      <td>i want to know your age please</td>\n",
       "    </tr>\n",
       "    <tr>\n",
       "      <th>2006</th>\n",
       "      <td>age</td>\n",
       "      <td>tell your age please</td>\n",
       "    </tr>\n",
       "    <tr>\n",
       "      <th>...</th>\n",
       "      <td>...</td>\n",
       "      <td>...</td>\n",
       "    </tr>\n",
       "    <tr>\n",
       "      <th>2998</th>\n",
       "      <td>age</td>\n",
       "      <td>what is the age</td>\n",
       "    </tr>\n",
       "    <tr>\n",
       "      <th>2999</th>\n",
       "      <td>age</td>\n",
       "      <td>age ??</td>\n",
       "    </tr>\n",
       "    <tr>\n",
       "      <th>3000</th>\n",
       "      <td>age</td>\n",
       "      <td>age ??</td>\n",
       "    </tr>\n",
       "    <tr>\n",
       "      <th>3001</th>\n",
       "      <td>age</td>\n",
       "      <td>tell them the age plese, becaue we eante to tk...</td>\n",
       "    </tr>\n",
       "    <tr>\n",
       "      <th>3002</th>\n",
       "      <td>age</td>\n",
       "      <td></td>\n",
       "    </tr>\n",
       "  </tbody>\n",
       "</table>\n",
       "<p>1001 rows × 2 columns</p>\n",
       "</div>"
      ],
      "text/plain": [
       "     label                                            message\n",
       "2002   age                                   How old are you?\n",
       "2003   age              Do you mind if I ask how old you are?\n",
       "2004   age                                  What is your age?\n",
       "2005   age                     i want to know your age please\n",
       "2006   age                               tell your age please\n",
       "...    ...                                                ...\n",
       "2998   age                                    what is the age\n",
       "2999   age                                             age ??\n",
       "3000   age                                             age ??\n",
       "3001   age  tell them the age plese, becaue we eante to tk...\n",
       "3002   age                                                   \n",
       "\n",
       "[1001 rows x 2 columns]"
      ]
     },
     "execution_count": 57,
     "metadata": {},
     "output_type": "execute_result"
    }
   ],
   "source": [
    "t_age"
   ]
  },
  {
   "cell_type": "code",
   "execution_count": 58,
   "metadata": {},
   "outputs": [],
   "source": [
    "new_string = string.punctuation.replace(\",\", \"\")"
   ]
  },
  {
   "cell_type": "code",
   "execution_count": 59,
   "metadata": {},
   "outputs": [
    {
     "data": {
      "text/plain": [
       "'!\"#$%&\\'()*+,-./:;<=>?@[\\\\]^_`{|}~'"
      ]
     },
     "execution_count": 59,
     "metadata": {},
     "output_type": "execute_result"
    }
   ],
   "source": [
    "string.punctuation"
   ]
  },
  {
   "cell_type": "code",
   "execution_count": 60,
   "metadata": {},
   "outputs": [
    {
     "data": {
      "text/plain": [
       "'!\"#$%&\\'()*+-./:;<=>?@[\\\\]^_`{|}~'"
      ]
     },
     "execution_count": 60,
     "metadata": {},
     "output_type": "execute_result"
    }
   ],
   "source": [
    "new_string"
   ]
  },
  {
   "cell_type": "code",
   "execution_count": 61,
   "metadata": {},
   "outputs": [
    {
     "data": {
      "text/plain": [
       "label      7007\n",
       "message    7007\n",
       "dtype: int64"
      ]
     },
     "execution_count": 61,
     "metadata": {},
     "output_type": "execute_result"
    }
   ],
   "source": [
    "# displaying the count of the values in the lable column \n",
    "df.count() "
   ]
  },
  {
   "cell_type": "code",
   "execution_count": 62,
   "metadata": {},
   "outputs": [
    {
     "data": {
      "image/png": "[encoded data removed]",
      "text/plain": [
       "<Figure size 432x288 with 1 Axes>"
      ]
     },
     "metadata": {
      "needs_background": "light"
     },
     "output_type": "display_data"
    }
   ],
   "source": [
    "# showing a countplot of the target column \n",
    "sns.countplot(x=\"label\", data=df)\n",
    "plt.show() "
   ]
  },
  {
   "cell_type": "code",
   "execution_count": 63,
   "metadata": {},
   "outputs": [
    {
     "data": {
      "text/html": [
       "<div>\n",
       "<style scoped>\n",
       "    .dataframe tbody tr th:only-of-type {\n",
       "        vertical-align: middle;\n",
       "    }\n",
       "\n",
       "    .dataframe tbody tr th {\n",
       "        vertical-align: top;\n",
       "    }\n",
       "\n",
       "    .dataframe thead th {\n",
       "        text-align: right;\n",
       "    }\n",
       "</style>\n",
       "<table border=\"1\" class=\"dataframe\">\n",
       "  <thead>\n",
       "    <tr style=\"text-align: right;\">\n",
       "      <th></th>\n",
       "      <th>label</th>\n",
       "      <th>message</th>\n",
       "    </tr>\n",
       "  </thead>\n",
       "  <tbody>\n",
       "    <tr>\n",
       "      <th>0</th>\n",
       "      <td>greetings</td>\n",
       "      <td>sunrises are beautiful just like you, and wish...</td>\n",
       "    </tr>\n",
       "    <tr>\n",
       "      <th>1</th>\n",
       "      <td>greetings</td>\n",
       "      <td>good morning to wonderful soul, wish you sprea...</td>\n",
       "    </tr>\n",
       "    <tr>\n",
       "      <th>2</th>\n",
       "      <td>greetings</td>\n",
       "      <td>may your day be filled with laughter, morning</td>\n",
       "    </tr>\n",
       "    <tr>\n",
       "      <th>3</th>\n",
       "      <td>greetings</td>\n",
       "      <td>a very good morning to you may this day bring ...</td>\n",
       "    </tr>\n",
       "    <tr>\n",
       "      <th>4</th>\n",
       "      <td>greetings</td>\n",
       "      <td>good morning darling, hope when you open your ...</td>\n",
       "    </tr>\n",
       "  </tbody>\n",
       "</table>\n",
       "</div>"
      ],
      "text/plain": [
       "       label                                            message\n",
       "0  greetings  sunrises are beautiful just like you, and wish...\n",
       "1  greetings  good morning to wonderful soul, wish you sprea...\n",
       "2  greetings      may your day be filled with laughter, morning\n",
       "3  greetings  a very good morning to you may this day bring ...\n",
       "4  greetings  good morning darling, hope when you open your ..."
      ]
     },
     "execution_count": 63,
     "metadata": {},
     "output_type": "execute_result"
    }
   ],
   "source": [
    "# Creating a regex method for removing all the html tags\n",
    "TAG_RE = re.compile(r'<[^>]+>')\n",
    "new_string = string.punctuation.replace(\",\", \"\")\n",
    "\n",
    "# Creating a function for using the regex html remover method. \n",
    "def remove_tags(message):\n",
    "    return TAG_RE.sub('', message)\n",
    "\n",
    "# Creating a function to clean the input tweets \n",
    "def clean_text(message):\n",
    "    # Converting into small letters \n",
    "    message = message.lower() \n",
    "    # Removing html tags \n",
    "    message = remove_tags(message)\n",
    "    # removing the single character \n",
    "    message = re.sub(r\"\\s+[a-zA-Z]\\s+\", ' ', message)\n",
    "    # removing the multiple spaces \n",
    "    message = re.sub(r'\\s+', ' ', message)\n",
    "    # removing the punctuation \n",
    "    message = ''.join([t for t in message if t not in new_string])\n",
    "    #\n",
    "    return message \n",
    "\n",
    "# Applying the function to the text column to perform some \n",
    "# Basic filtering nlkt methods. \n",
    "df['message'] = df['message'].apply(clean_text)\n",
    "# showing the head of the dataset after the filtering process \n",
    "df.head()"
   ]
  },
  {
   "cell_type": "code",
   "execution_count": 64,
   "metadata": {},
   "outputs": [],
   "source": [
    "# Creating an instance of the countvectorizer class \n",
    "vectorizer = TfidfVectorizer()  \n",
    "\n",
    "# converting the text column into numpy array \n",
    "X = df['message'].values\n",
    "\n",
    "# Convert the message to vectors \n",
    "X = vectorizer.fit_transform(X).toarray() \n",
    "\n",
    "# converting the target labels into numpy array \n",
    "# creating a dictionary to map the question and conversation label to numerical values \n",
    "label_encoder = LabelEncoder() \n",
    "\n",
    "\n",
    "# mapping the label key values to the label column \n",
    "y = label_encoder.fit_transform(df[\"label\"]).astype(\"float32\")\n",
    "y = to_categorical(y)\n",
    "\n",
    "# Getting the input and output dim \n",
    "INPUT_DIM = X.shape[1]\n",
    "OUTPUT_DIM = y.shape[1]"
   ]
  },
  {
   "cell_type": "code",
   "execution_count": 65,
   "metadata": {},
   "outputs": [
    {
     "data": {
      "text/plain": [
       "(7007, 7)"
      ]
     },
     "execution_count": 65,
     "metadata": {},
     "output_type": "execute_result"
    }
   ],
   "source": [
    "y.shape"
   ]
  },
  {
   "cell_type": "code",
   "execution_count": 66,
   "metadata": {},
   "outputs": [
    {
     "data": {
      "text/plain": [
       "(7007, 1784)"
      ]
     },
     "execution_count": 66,
     "metadata": {},
     "output_type": "execute_result"
    }
   ],
   "source": [
    "X.shape"
   ]
  },
  {
   "cell_type": "code",
   "execution_count": 67,
   "metadata": {},
   "outputs": [
    {
     "data": {
      "text/plain": [
       "1784"
      ]
     },
     "execution_count": 67,
     "metadata": {},
     "output_type": "execute_result"
    }
   ],
   "source": [
    "INPUT_DIM "
   ]
  },
  {
   "cell_type": "code",
   "execution_count": 68,
   "metadata": {},
   "outputs": [
    {
     "data": {
      "text/plain": [
       "7"
      ]
     },
     "execution_count": 68,
     "metadata": {},
     "output_type": "execute_result"
    }
   ],
   "source": [
    "OUTPUT_DIM"
   ]
  },
  {
   "cell_type": "code",
   "execution_count": 69,
   "metadata": {},
   "outputs": [],
   "source": [
    "# calling in the train test split to split the dataset into training and testing split \n",
    "X_train, X_test, y_train, y_test = train_test_split(X, y, \n",
    "                                                   test_size=0.33, \n",
    "                                                   random_state=20)"
   ]
  },
  {
   "cell_type": "code",
   "execution_count": 70,
   "metadata": {},
   "outputs": [
    {
     "name": "stdout",
     "output_type": "stream",
     "text": [
      "Shape of Input Data: (4694, 1784)\n",
      "Shape of Input Data: (2313, 1784)\n",
      "Shape of Output Data: (4694, 7)\n",
      "Shape of Output Data: (2313, 7)\n"
     ]
    }
   ],
   "source": [
    "# showing the shape of the dataset  \n",
    "print('Shape of Input Data: {}'.format(X_train.shape))  # row X columns \n",
    "print('Shape of Input Data: {}'.format(X_test.shape))\n",
    "\n",
    "print('Shape of Output Data: {}'.format(y_train.shape))\n",
    "print('Shape of Output Data: {}'.format(y_test.shape))"
   ]
  },
  {
   "cell_type": "code",
   "execution_count": 71,
   "metadata": {},
   "outputs": [
    {
     "name": "stdout",
     "output_type": "stream",
     "text": [
      "Model: \"sequential\"\n",
      "_________________________________________________________________\n",
      "Layer (type)                 Output Shape              Param #   \n",
      "=================================================================\n",
      "dense (Dense)                (None, 250)               446250    \n",
      "_________________________________________________________________\n",
      "dense_1 (Dense)              (None, 120)               30120     \n",
      "_________________________________________________________________\n",
      "dense_2 (Dense)              (None, 8)                 968       \n",
      "_________________________________________________________________\n",
      "dense_3 (Dense)              (None, 7)                 63        \n",
      "=================================================================\n",
      "Total params: 477,401\n",
      "Trainable params: 477,401\n",
      "Non-trainable params: 0\n",
      "_________________________________________________________________\n"
     ]
    }
   ],
   "source": [
    "# Building the model \n",
    "model = Sequential() \n",
    "model.add(Dense(250, input_dim=INPUT_DIM, activation='relu'))\n",
    "model.add(Dense(120, kernel_initializer='he_uniform', bias_initializer='zeros', activation='relu' ))\n",
    "model.add(Dense(8, kernel_initializer='he_uniform', bias_initializer='zeros', activation='relu' ))\n",
    "model.add(Dense(OUTPUT_DIM, activation='sigmoid'))\n",
    "\n",
    "# Compiling the model \n",
    "model.compile(optimizer='adam', loss='binary_crossentropy', metrics=['accuracy'])\n",
    "\n",
    "# Showing the summary of the compiled model \n",
    "model.summary() "
   ]
  },
  {
   "cell_type": "code",
   "execution_count": 73,
   "metadata": {},
   "outputs": [
    {
     "name": "stdout",
     "output_type": "stream",
     "text": [
      "Epoch 1/20\n",
      "939/939 [==============================] - 18s 19ms/step - loss: 0.0012 - accuracy: 0.9991 - val_loss: 0.0019 - val_accuracy: 0.9991\n",
      "Epoch 2/20\n",
      "939/939 [==============================] - 20s 21ms/step - loss: 9.5049e-04 - accuracy: 0.9991 - val_loss: 0.0016 - val_accuracy: 0.9991\n",
      "Epoch 3/20\n",
      "939/939 [==============================] - 14s 15ms/step - loss: 9.8781e-04 - accuracy: 0.9991 - val_loss: 0.0012 - val_accuracy: 0.9991\n",
      "Epoch 4/20\n",
      "939/939 [==============================] - 13s 14ms/step - loss: 7.2575e-04 - accuracy: 0.9991 - val_loss: 0.0011 - val_accuracy: 0.9991\n",
      "Epoch 5/20\n",
      "939/939 [==============================] - 14s 14ms/step - loss: 7.1407e-04 - accuracy: 0.9989 - val_loss: 8.9793e-04 - val_accuracy: 0.9991\n",
      "Epoch 6/20\n",
      "939/939 [==============================] - 15s 16ms/step - loss: 6.5072e-04 - accuracy: 0.9989 - val_loss: 6.9694e-04 - val_accuracy: 0.9991\n",
      "Epoch 7/20\n",
      "939/939 [==============================] - 13s 14ms/step - loss: 5.6658e-04 - accuracy: 0.9989 - val_loss: 8.2547e-04 - val_accuracy: 0.9991\n",
      "Epoch 8/20\n",
      "939/939 [==============================] - 13s 14ms/step - loss: 5.3385e-04 - accuracy: 0.9989 - val_loss: 9.6523e-04 - val_accuracy: 0.9991\n",
      "Epoch 9/20\n",
      "939/939 [==============================] - 14s 15ms/step - loss: 5.6078e-04 - accuracy: 0.9989 - val_loss: 7.5907e-04 - val_accuracy: 0.9991\n",
      "Epoch 10/20\n",
      "939/939 [==============================] - 13s 13ms/step - loss: 5.1447e-04 - accuracy: 0.9989 - val_loss: 7.4871e-04 - val_accuracy: 0.9991\n",
      "Epoch 11/20\n",
      "939/939 [==============================] - 13s 14ms/step - loss: 5.0039e-04 - accuracy: 0.9989 - val_loss: 0.0011 - val_accuracy: 0.9991\n",
      "Epoch 12/20\n",
      "939/939 [==============================] - 20s 21ms/step - loss: 4.6011e-04 - accuracy: 0.9991 - val_loss: 9.9067e-04 - val_accuracy: 0.9991\n",
      "Epoch 13/20\n",
      "939/939 [==============================] - 13s 14ms/step - loss: 4.5202e-04 - accuracy: 0.9989 - val_loss: 0.0013 - val_accuracy: 0.9991\n",
      "Epoch 14/20\n",
      "939/939 [==============================] - 13s 14ms/step - loss: 4.7433e-04 - accuracy: 0.9991 - val_loss: 0.0017 - val_accuracy: 0.9991\n",
      "Epoch 15/20\n",
      "939/939 [==============================] - 14s 15ms/step - loss: 4.3898e-04 - accuracy: 0.9989 - val_loss: 0.0020 - val_accuracy: 0.9991\n",
      "Epoch 16/20\n",
      "939/939 [==============================] - 14s 15ms/step - loss: 4.4144e-04 - accuracy: 0.9989 - val_loss: 0.0032 - val_accuracy: 0.9991\n",
      "Epoch 17/20\n",
      "939/939 [==============================] - 14s 15ms/step - loss: 4.4114e-04 - accuracy: 0.9991 - val_loss: 0.0030 - val_accuracy: 0.9991\n",
      "Epoch 18/20\n",
      "939/939 [==============================] - 17s 18ms/step - loss: 0.0016 - accuracy: 0.9989 - val_loss: 0.0022 - val_accuracy: 0.9991\n",
      "Epoch 19/20\n",
      "939/939 [==============================] - 16s 17ms/step - loss: 4.2393e-04 - accuracy: 0.9989 - val_loss: 0.0022 - val_accuracy: 0.9991\n",
      "Epoch 20/20\n",
      "939/939 [==============================] - 11s 11ms/step - loss: 4.1192e-04 - accuracy: 0.9991 - val_loss: 0.0027 - val_accuracy: 0.9991\n"
     ]
    },
    {
     "data": {
      "text/plain": [
       "<tensorflow.python.keras.callbacks.History at 0x7fa49c6090b8>"
      ]
     },
     "execution_count": 73,
     "metadata": {},
     "output_type": "execute_result"
    }
   ],
   "source": [
    "model.fit(X_train, y_train, epochs=20, batch_size=5, validation_data=(X_test, y_test))"
   ]
  },
  {
   "cell_type": "code",
   "execution_count": 74,
   "metadata": {},
   "outputs": [],
   "source": [
    "# saving the trained model weight file and the model for \n",
    "# the vectorizer \n",
    "model.save_weights('model/fasgd-model.h5')\n",
    "\n",
    "# specifying the name of the model file \n",
    "filename = \"encoders/encoders.pkl\"\n",
    "\n",
    "# # saving the model to disk \n",
    "pickle.dump((vectorizer, label_encoder), open(filename, 'wb'))"
   ]
  },
  {
   "cell_type": "code",
   "execution_count": 85,
   "metadata": {},
   "outputs": [
    {
     "name": "stdout",
     "output_type": "stream",
     "text": [
      "['i am angry now tho, but how old 3333 are you ']\n"
     ]
    },
    {
     "data": {
      "text/plain": [
       "array([[9.9998218e-01, 4.2300715e-11, 4.1150665e-20, 6.5247043e-14,\n",
       "        2.6768418e-31, 1.7039990e-06, 0.0000000e+00]], dtype=float32)"
      ]
     },
     "execution_count": 85,
     "metadata": {},
     "output_type": "execute_result"
    }
   ],
   "source": [
    "# note that from 0 to 0.5 ==> conversation\n",
    "# note that from 0.5 to 1 or 0.99  ===> question\n",
    "# Making predictions on new unseen dataset for svm model \n",
    "examples = \"i am angry now tho, but how old 3333 are you ?\"\n",
    "examples = [clean_text(examples)] \n",
    "print(examples)\n",
    "\n",
    "examples = vectorizer.transform(examples).toarray()\n",
    "\n",
    "predicted = model.predict(examples)\n",
    "predicted"
   ]
  },
  {
   "cell_type": "code",
   "execution_count": 86,
   "metadata": {},
   "outputs": [
    {
     "name": "stdout",
     "output_type": "stream",
     "text": [
      "age\n"
     ]
    }
   ],
   "source": [
    "pred1 = label_encoder.classes_[np.argmax(predicted)]\n",
    "\n",
    "print(pred1) "
   ]
  },
  {
   "cell_type": "code",
   "execution_count": 88,
   "metadata": {},
   "outputs": [
    {
     "data": {
      "text/plain": [
       "array([[9.9998218e-01, 4.2300715e-11, 4.1150665e-20, 6.5247043e-14,\n",
       "        2.6768418e-31, 1.7039990e-06, 0.0000000e+00]], dtype=float32)"
      ]
     },
     "execution_count": 88,
     "metadata": {},
     "output_type": "execute_result"
    }
   ],
   "source": [
    "predicted"
   ]
  },
  {
   "cell_type": "code",
   "execution_count": 89,
   "metadata": {},
   "outputs": [
    {
     "data": {
      "text/plain": [
       "array(['age', 'goodbye', 'greetings', 'name', 'password', 'task',\n",
       "       'unknown'], dtype=object)"
      ]
     },
     "execution_count": 89,
     "metadata": {},
     "output_type": "execute_result"
    }
   ],
   "source": [
    "label_encoder.classes_"
   ]
  },
  {
   "cell_type": "code",
   "execution_count": null,
   "metadata": {},
   "outputs": [],
   "source": []
  },
  {
   "cell_type": "code",
   "execution_count": null,
   "metadata": {},
   "outputs": [],
   "source": []
  },
  {
   "cell_type": "code",
   "execution_count": null,
   "metadata": {},
   "outputs": [],
   "source": []
  },
  {
   "cell_type": "code",
   "execution_count": null,
   "metadata": {},
   "outputs": [],
   "source": []
  },
  {
   "cell_type": "code",
   "execution_count": null,
   "metadata": {},
   "outputs": [],
   "source": []
  },
  {
   "cell_type": "code",
   "execution_count": null,
   "metadata": {},
   "outputs": [],
   "source": []
  },
  {
   "cell_type": "code",
   "execution_count": null,
   "metadata": {},
   "outputs": [],
   "source": []
  },
  {
   "cell_type": "code",
   "execution_count": null,
   "metadata": {},
   "outputs": [],
   "source": []
  },
  {
   "cell_type": "code",
   "execution_count": null,
   "metadata": {},
   "outputs": [],
   "source": []
  },
  {
   "cell_type": "code",
   "execution_count": null,
   "metadata": {},
   "outputs": [],
   "source": []
  },
  {
   "cell_type": "code",
   "execution_count": null,
   "metadata": {},
   "outputs": [],
   "source": []
  },
  {
   "cell_type": "code",
   "execution_count": null,
   "metadata": {},
   "outputs": [],
   "source": []
  },
  {
   "cell_type": "code",
   "execution_count": null,
   "metadata": {},
   "outputs": [],
   "source": []
  },
  {
   "cell_type": "code",
   "execution_count": null,
   "metadata": {},
   "outputs": [],
   "source": []
  },
  {
   "cell_type": "code",
   "execution_count": null,
   "metadata": {},
   "outputs": [],
   "source": []
  },
  {
   "cell_type": "code",
   "execution_count": null,
   "metadata": {},
   "outputs": [],
   "source": []
  },
  {
   "cell_type": "code",
   "execution_count": null,
   "metadata": {},
   "outputs": [],
   "source": []
  },
  {
   "cell_type": "code",
   "execution_count": null,
   "metadata": {},
   "outputs": [],
   "source": []
  },
  {
   "cell_type": "code",
   "execution_count": null,
   "metadata": {},
   "outputs": [],
   "source": []
  },
  {
   "cell_type": "code",
   "execution_count": null,
   "metadata": {},
   "outputs": [],
   "source": []
  },
  {
   "cell_type": "code",
   "execution_count": null,
   "metadata": {},
   "outputs": [],
   "source": []
  },
  {
   "cell_type": "markdown",
   "metadata": {},
   "source": [
    "## Working With The Question Class\n",
    "\n",
    "The question class will contain the follow labels that its model or classifier would be trained on. \n",
    "\n",
    "i) age \n",
    "\n",
    "ii) name \n",
    "\n",
    "iii) task \n",
    "\n",
    "iv) wikipedia question \n",
    "\n",
    "v) life expanctancy \n",
    "\n",
    "vi) analysis problem \n",
    "\n",
    "vii) location \n",
    "\n",
    "viii) bio_question "
   ]
  },
  {
   "cell_type": "code",
   "execution_count": 66,
   "metadata": {},
   "outputs": [],
   "source": [
    "# importing the necessary packages \n",
    "import numpy as np \n",
    "import pandas as pd \n",
    "import seaborn as sns \n",
    "import matplotlib.pyplot as plt \n",
    "from nltk import pos_tag, ne_chunk \n",
    "\n",
    "# setting some basic parameters for the graph plotting \n",
    "sns.set_palette('husl') \n",
    "%matplotlib inline "
   ]
  },
  {
   "cell_type": "code",
   "execution_count": 67,
   "metadata": {},
   "outputs": [],
   "source": [
    "# specifying the path to the question dataset \n",
    "dataset = 'Datasets/question_dataset.csv'\n",
    "\n",
    "# reading the dataset into memory \n",
    "df = pd.read_csv(dataset)"
   ]
  },
  {
   "cell_type": "code",
   "execution_count": 68,
   "metadata": {},
   "outputs": [
    {
     "data": {
      "text/html": [
       "<div>\n",
       "<style scoped>\n",
       "    .dataframe tbody tr th:only-of-type {\n",
       "        vertical-align: middle;\n",
       "    }\n",
       "\n",
       "    .dataframe tbody tr th {\n",
       "        vertical-align: top;\n",
       "    }\n",
       "\n",
       "    .dataframe thead th {\n",
       "        text-align: right;\n",
       "    }\n",
       "</style>\n",
       "<table border=\"1\" class=\"dataframe\">\n",
       "  <thead>\n",
       "    <tr style=\"text-align: right;\">\n",
       "      <th></th>\n",
       "      <th>date</th>\n",
       "      <th>main_tag</th>\n",
       "      <th>tag</th>\n",
       "      <th>message</th>\n",
       "    </tr>\n",
       "  </thead>\n",
       "  <tbody>\n",
       "    <tr>\n",
       "      <th>0</th>\n",
       "      <td>2020-02-09 14:20:21.741485</td>\n",
       "      <td>question</td>\n",
       "      <td>name</td>\n",
       "      <td>please what is your name ?</td>\n",
       "    </tr>\n",
       "    <tr>\n",
       "      <th>1</th>\n",
       "      <td>2020-02-09 14:20:36.041103</td>\n",
       "      <td>question</td>\n",
       "      <td>age</td>\n",
       "      <td>okay thanks so how old are you today ?</td>\n",
       "    </tr>\n",
       "    <tr>\n",
       "      <th>2</th>\n",
       "      <td>NaN</td>\n",
       "      <td>question</td>\n",
       "      <td>task</td>\n",
       "      <td>what are you really good at ?</td>\n",
       "    </tr>\n",
       "    <tr>\n",
       "      <th>3</th>\n",
       "      <td>NaN</td>\n",
       "      <td>question</td>\n",
       "      <td>task</td>\n",
       "      <td>what are you good at really</td>\n",
       "    </tr>\n",
       "    <tr>\n",
       "      <th>4</th>\n",
       "      <td>NaN</td>\n",
       "      <td>question</td>\n",
       "      <td>task</td>\n",
       "      <td>tell me what you can do</td>\n",
       "    </tr>\n",
       "  </tbody>\n",
       "</table>\n",
       "</div>"
      ],
      "text/plain": [
       "                         date  main_tag   tag  \\\n",
       "0  2020-02-09 14:20:21.741485  question  name   \n",
       "1  2020-02-09 14:20:36.041103  question   age   \n",
       "2                         NaN  question  task   \n",
       "3                         NaN  question  task   \n",
       "4                         NaN  question  task   \n",
       "\n",
       "                                  message  \n",
       "0              please what is your name ?  \n",
       "1  okay thanks so how old are you today ?  \n",
       "2           what are you really good at ?  \n",
       "3             what are you good at really  \n",
       "4                 tell me what you can do  "
      ]
     },
     "execution_count": 68,
     "metadata": {},
     "output_type": "execute_result"
    }
   ],
   "source": [
    "# displaying the head of the dataset  \n",
    "df.head() "
   ]
  },
  {
   "cell_type": "code",
   "execution_count": 69,
   "metadata": {},
   "outputs": [
    {
     "data": {
      "image/png": "[encoded data removed]",
      "text/plain": [
       "<Figure size 432x288 with 1 Axes>"
      ]
     },
     "metadata": {
      "needs_background": "light"
     },
     "output_type": "display_data"
    }
   ],
   "source": [
    "# Cleaning the text\n",
    "import string \n",
    "from nltk.corpus import stopwords \n",
    "from nltk import PorterStemmer as Stemmer\n",
    "def process(text):\n",
    "    # turn the texts into lowercase\n",
    "    text = text.lower() \n",
    "    # remove punctuation\n",
    "    text = ''.join([t for t in text if t not in string.punctuation])\n",
    "    # remove stopwords \n",
    "    text = [t for t in text.split() if t not in stopwords.words('english')]\n",
    "    # Stemming the words \n",
    "    stemmer = Stemmer() \n",
    "    text = [stemmer.stem(t) for t in text]\n",
    "    # Return the token list \n",
    "    return text \n",
    "\n",
    "# showing the plot of the label column\n",
    "sns.countplot(data=df, x='tag')\n",
    "plt.show() "
   ]
  },
  {
   "cell_type": "code",
   "execution_count": 70,
   "metadata": {},
   "outputs": [],
   "source": [
    "# Building a model \n",
    "from imblearn.over_sampling import SMOTE \n",
    "from sklearn.naive_bayes import MultinomialNB \n",
    "from sklearn.linear_model import LogisticRegression \n",
    "from sklearn.feature_extraction.text import TfidfVectorizer\n",
    "from sklearn.feature_extraction.text import CountVectorizer\n",
    "\n",
    "\n",
    "# Specifying the vectorizer to use \n",
    "vectorizer = CountVectorizer()\n",
    "\n",
    "# Changing the message column into a vector of numbers \n",
    "X = vectorizer.fit_transform(df['message'].values)\n",
    "\n",
    "# changing the targets into a simple output \n",
    "y = df['tag'].values \n",
    "\n",
    "# Balancing the dataset by oversampling it \n",
    "oversample = SMOTE(random_state = 42) \n",
    "# fitting and applying the transform \n",
    "X_balanced, y_balanced = oversample.fit_sample(X, y)\n",
    "\n",
    "# performing a training and a spliting test \n",
    "from sklearn.model_selection import train_test_split \n",
    "X_train, X_test, y_train, y_test = train_test_split(X_balanced, y_balanced,\n",
    "                                                    test_size=0.20,\n",
    "                                                    random_state = 21)"
   ]
  },
  {
   "cell_type": "code",
   "execution_count": 71,
   "metadata": {},
   "outputs": [
    {
     "name": "stderr",
     "output_type": "stream",
     "text": [
      "/home/mbonu/anaconda3/lib/python3.6/site-packages/sklearn/linear_model/logistic.py:469: FutureWarning: Default multi_class will be changed to 'auto' in 0.22. Specify the multi_class option to silence this warning.\n",
      "  \"this warning.\", FutureWarning)\n"
     ]
    },
    {
     "data": {
      "text/plain": [
       "1.0"
      ]
     },
     "execution_count": 71,
     "metadata": {},
     "output_type": "execute_result"
    }
   ],
   "source": [
    "# Building the model and training it \n",
    "model = LogisticRegression(solver='lbfgs')\n",
    "\n",
    "# Training the model \n",
    "model.fit(X_train, y_train)\n",
    "\n",
    "# Checking the accuracy of the model befor deployment \n",
    "model.score(X_test, y_test)"
   ]
  },
  {
   "cell_type": "code",
   "execution_count": 72,
   "metadata": {},
   "outputs": [
    {
     "data": {
      "text/plain": [
       "['name',\n",
       " 'age',\n",
       " 'task',\n",
       " 'wikipedia_question',\n",
       " 'analysis',\n",
       " 'bio_question',\n",
       " 'memory',\n",
       " 'music_function']"
      ]
     },
     "execution_count": 72,
     "metadata": {},
     "output_type": "execute_result"
    }
   ],
   "source": [
    "list(df['tag'].unique())"
   ]
  },
  {
   "cell_type": "code",
   "execution_count": 73,
   "metadata": {},
   "outputs": [
    {
     "data": {
      "text/plain": [
       "array(['age', 'name', 'analysis', 'bio_question', 'memory'], dtype=object)"
      ]
     },
     "execution_count": 73,
     "metadata": {},
     "output_type": "execute_result"
    }
   ],
   "source": [
    "# Making predictions on new unseen dataset \n",
    "examples = ['hello, how old are you', 'and what is your name', 'analysis please',\n",
    "            'how are you doing', 'please what what our last discussion yesterday?']\n",
    "examples_counts = vectorizer.transform(examples)\n",
    "\n",
    "\n",
    "predictions = model.predict(examples_counts)\n",
    "predictions "
   ]
  },
  {
   "cell_type": "code",
   "execution_count": 74,
   "metadata": {},
   "outputs": [
    {
     "name": "stdout",
     "output_type": "stream",
     "text": [
      "1.0\n"
     ]
    }
   ],
   "source": [
    "import joblib \n",
    "\n",
    "# save the model to disk\n",
    "filename = 'question/question_model.pb'\n",
    "joblib.dump((model, vectorizer), filename)\n",
    " \n",
    "# some time later...\n",
    " \n",
    "# load the model from disk\n",
    "loaded_model, vectorizer = joblib.load(filename)\n",
    "result = loaded_model.score(X_test, y_test)\n",
    "print(result)"
   ]
  },
  {
   "cell_type": "code",
   "execution_count": null,
   "metadata": {},
   "outputs": [],
   "source": []
  },
  {
   "cell_type": "markdown",
   "metadata": {},
   "source": [
    "## Working with the Conversation Class \n",
    "\n",
    "The conversation class will contain the label that the model will be trained on \n",
    "\n",
    "i) good response \n",
    "\n",
    "ii) greetings \n",
    "\n",
    "iii) hate/insults \n",
    "\n",
    "iv) interaction \n",
    "\n",
    "v) goodbye \n",
    "\n",
    "vi) bad_mood \n",
    "\n",
    "vii) "
   ]
  },
  {
   "cell_type": "code",
   "execution_count": 75,
   "metadata": {},
   "outputs": [],
   "source": [
    "# importing the necessary packages \n",
    "import numpy as np \n",
    "import pandas as pd \n",
    "import seaborn as sns \n",
    "import matplotlib.pyplot as plt \n",
    "from nltk import pos_tag, ne_chunk \n",
    "\n",
    "# setting some basic parameters for the graph plotting \n",
    "sns.set_palette('husl') \n",
    "%matplotlib inline "
   ]
  },
  {
   "cell_type": "code",
   "execution_count": 76,
   "metadata": {},
   "outputs": [],
   "source": [
    "# specifying the path to the question dataset \n",
    "dataset = 'Datasets/conversation_dataset.csv'\n",
    "\n",
    "# reading the dataset into memory \n",
    "df = pd.read_csv(dataset)"
   ]
  },
  {
   "cell_type": "code",
   "execution_count": 77,
   "metadata": {},
   "outputs": [
    {
     "data": {
      "text/html": [
       "<div>\n",
       "<style scoped>\n",
       "    .dataframe tbody tr th:only-of-type {\n",
       "        vertical-align: middle;\n",
       "    }\n",
       "\n",
       "    .dataframe tbody tr th {\n",
       "        vertical-align: top;\n",
       "    }\n",
       "\n",
       "    .dataframe thead th {\n",
       "        text-align: right;\n",
       "    }\n",
       "</style>\n",
       "<table border=\"1\" class=\"dataframe\">\n",
       "  <thead>\n",
       "    <tr style=\"text-align: right;\">\n",
       "      <th></th>\n",
       "      <th>date</th>\n",
       "      <th>main_tag</th>\n",
       "      <th>tag</th>\n",
       "      <th>message</th>\n",
       "    </tr>\n",
       "  </thead>\n",
       "  <tbody>\n",
       "    <tr>\n",
       "      <th>0</th>\n",
       "      <td>2020-02-09 14:20:12.121820</td>\n",
       "      <td>conversation</td>\n",
       "      <td>greetings</td>\n",
       "      <td>hello</td>\n",
       "    </tr>\n",
       "    <tr>\n",
       "      <th>1</th>\n",
       "      <td>2020-02-09 14:23:00.213853</td>\n",
       "      <td>conversation</td>\n",
       "      <td>greetings</td>\n",
       "      <td>hello</td>\n",
       "    </tr>\n",
       "    <tr>\n",
       "      <th>2</th>\n",
       "      <td>NaN</td>\n",
       "      <td>conversation</td>\n",
       "      <td>good_reply</td>\n",
       "      <td>thanks for everything</td>\n",
       "    </tr>\n",
       "    <tr>\n",
       "      <th>3</th>\n",
       "      <td>NaN</td>\n",
       "      <td>conversation</td>\n",
       "      <td>good_reply</td>\n",
       "      <td>i am fine thanks</td>\n",
       "    </tr>\n",
       "    <tr>\n",
       "      <th>4</th>\n",
       "      <td>NaN</td>\n",
       "      <td>conversation</td>\n",
       "      <td>good_reply</td>\n",
       "      <td>fine</td>\n",
       "    </tr>\n",
       "  </tbody>\n",
       "</table>\n",
       "</div>"
      ],
      "text/plain": [
       "                         date      main_tag         tag  \\\n",
       "0  2020-02-09 14:20:12.121820  conversation   greetings   \n",
       "1  2020-02-09 14:23:00.213853  conversation   greetings   \n",
       "2                         NaN  conversation  good_reply   \n",
       "3                         NaN  conversation  good_reply   \n",
       "4                         NaN  conversation  good_reply   \n",
       "\n",
       "                  message  \n",
       "0                   hello  \n",
       "1                   hello  \n",
       "2   thanks for everything  \n",
       "3        i am fine thanks  \n",
       "4                    fine  "
      ]
     },
     "execution_count": 77,
     "metadata": {},
     "output_type": "execute_result"
    }
   ],
   "source": [
    "# displaying the head of the dataset  \n",
    "df.head() "
   ]
  },
  {
   "cell_type": "code",
   "execution_count": 78,
   "metadata": {},
   "outputs": [
    {
     "data": {
      "image/png": "[encoded data removed]",
      "text/plain": [
       "<Figure size 432x288 with 1 Axes>"
      ]
     },
     "metadata": {
      "needs_background": "light"
     },
     "output_type": "display_data"
    }
   ],
   "source": [
    "# Cleaning the text\n",
    "import string \n",
    "from nltk.corpus import stopwords \n",
    "from nltk import PorterStemmer as Stemmer\n",
    "def process(text):\n",
    "    # turn the texts into lowercase\n",
    "    text = text.lower() \n",
    "    # remove punctuation\n",
    "    text = ''.join([t for t in text if t not in string.punctuation])\n",
    "    # remove stopwords \n",
    "    text = [t for t in text.split() if t not in stopwords.words('english')]\n",
    "    # Stemming the words \n",
    "    stemmer = Stemmer() \n",
    "    text = [stemmer.stem(t) for t in text]\n",
    "    # Return the token list \n",
    "    return text \n",
    "\n",
    "# showing the plot of the label column\n",
    "sns.countplot(data=df, x='tag')\n",
    "plt.show() "
   ]
  },
  {
   "cell_type": "code",
   "execution_count": 79,
   "metadata": {},
   "outputs": [
    {
     "data": {
      "text/html": [
       "<div>\n",
       "<style scoped>\n",
       "    .dataframe tbody tr th:only-of-type {\n",
       "        vertical-align: middle;\n",
       "    }\n",
       "\n",
       "    .dataframe tbody tr th {\n",
       "        vertical-align: top;\n",
       "    }\n",
       "\n",
       "    .dataframe thead th {\n",
       "        text-align: right;\n",
       "    }\n",
       "</style>\n",
       "<table border=\"1\" class=\"dataframe\">\n",
       "  <thead>\n",
       "    <tr style=\"text-align: right;\">\n",
       "      <th></th>\n",
       "      <th>date</th>\n",
       "      <th>main_tag</th>\n",
       "      <th>tag</th>\n",
       "      <th>message</th>\n",
       "    </tr>\n",
       "  </thead>\n",
       "  <tbody>\n",
       "    <tr>\n",
       "      <th>0</th>\n",
       "      <td>2020-02-09 14:20:12.121820</td>\n",
       "      <td>conversation</td>\n",
       "      <td>greetings</td>\n",
       "      <td>hello</td>\n",
       "    </tr>\n",
       "    <tr>\n",
       "      <th>1</th>\n",
       "      <td>2020-02-09 14:23:00.213853</td>\n",
       "      <td>conversation</td>\n",
       "      <td>greetings</td>\n",
       "      <td>hello</td>\n",
       "    </tr>\n",
       "    <tr>\n",
       "      <th>2</th>\n",
       "      <td>NaN</td>\n",
       "      <td>conversation</td>\n",
       "      <td>good_reply</td>\n",
       "      <td>thanks for everything</td>\n",
       "    </tr>\n",
       "    <tr>\n",
       "      <th>3</th>\n",
       "      <td>NaN</td>\n",
       "      <td>conversation</td>\n",
       "      <td>good_reply</td>\n",
       "      <td>i am fine thanks</td>\n",
       "    </tr>\n",
       "    <tr>\n",
       "      <th>4</th>\n",
       "      <td>NaN</td>\n",
       "      <td>conversation</td>\n",
       "      <td>good_reply</td>\n",
       "      <td>fine</td>\n",
       "    </tr>\n",
       "  </tbody>\n",
       "</table>\n",
       "</div>"
      ],
      "text/plain": [
       "                         date      main_tag         tag  \\\n",
       "0  2020-02-09 14:20:12.121820  conversation   greetings   \n",
       "1  2020-02-09 14:23:00.213853  conversation   greetings   \n",
       "2                         NaN  conversation  good_reply   \n",
       "3                         NaN  conversation  good_reply   \n",
       "4                         NaN  conversation  good_reply   \n",
       "\n",
       "                  message  \n",
       "0                   hello  \n",
       "1                   hello  \n",
       "2   thanks for everything  \n",
       "3        i am fine thanks  \n",
       "4                    fine  "
      ]
     },
     "execution_count": 79,
     "metadata": {},
     "output_type": "execute_result"
    }
   ],
   "source": [
    "# viewing the dataset \n",
    "df.head() "
   ]
  },
  {
   "cell_type": "code",
   "execution_count": 80,
   "metadata": {},
   "outputs": [],
   "source": [
    "# Building a model \n",
    "from sklearn.pipeline import Pipeline \n",
    "from imblearn.over_sampling import SMOTE \n",
    "from sklearn.naive_bayes import MultinomialNB \n",
    "from sklearn.linear_model import LogisticRegression \n",
    "from sklearn.feature_extraction.text import TfidfVectorizer\n",
    "from sklearn.feature_extraction.text import CountVectorizer\n",
    "\n",
    "\n",
    "# Specifying the vectorizer to use \n",
    "vectorizer = CountVectorizer()\n",
    "\n",
    "# Changing the message column into a vector of numbers \n",
    "X = vectorizer.fit_transform(df['message'].values)\n",
    "\n",
    "# changing the targets into a simple output \n",
    "y = df['tag'].values \n",
    "\n",
    "# Balancing the dataset by oversampling it \n",
    "oversample = SMOTE(random_state = 42) \n",
    "# fitting and applying the transform \n",
    "X_balanced, y_balanced = oversample.fit_sample(X, y)\n",
    "\n",
    "\n",
    "# performing a training and a spliting test \n",
    "from sklearn.model_selection import train_test_split \n",
    "X_train, X_test, y_train, y_test = train_test_split(X_balanced, y_balanced,\n",
    "                                                    test_size=0.20,\n",
    "                                                    random_state = 21)"
   ]
  },
  {
   "cell_type": "code",
   "execution_count": 81,
   "metadata": {},
   "outputs": [
    {
     "name": "stdout",
     "output_type": "stream",
     "text": [
      "Input Shape: (87, 83)\n",
      "Output Shape: (87,)\n"
     ]
    }
   ],
   "source": [
    "# Displaying the shape of the Data \n",
    "print('Input Shape: {}'.format(X.shape))\n",
    "print('Output Shape: {}'.format(y.shape))"
   ]
  },
  {
   "cell_type": "code",
   "execution_count": 82,
   "metadata": {},
   "outputs": [
    {
     "name": "stderr",
     "output_type": "stream",
     "text": [
      "/home/mbonu/anaconda3/lib/python3.6/site-packages/sklearn/linear_model/logistic.py:432: FutureWarning: Default solver will be changed to 'lbfgs' in 0.22. Specify a solver to silence this warning.\n",
      "  FutureWarning)\n",
      "/home/mbonu/anaconda3/lib/python3.6/site-packages/sklearn/linear_model/logistic.py:469: FutureWarning: Default multi_class will be changed to 'auto' in 0.22. Specify the multi_class option to silence this warning.\n",
      "  \"this warning.\", FutureWarning)\n",
      "/home/mbonu/anaconda3/lib/python3.6/site-packages/sklearn/linear_model/logistic.py:1544: UserWarning: 'n_jobs' > 1 does not have any effect when 'solver' is set to 'liblinear'. Got 'n_jobs' = 2.\n",
      "  \" = {}.\".format(effective_n_jobs(self.n_jobs)))\n"
     ]
    },
    {
     "data": {
      "text/plain": [
       "LogisticRegression(C=1.0, class_weight=None, dual=False, fit_intercept=True,\n",
       "                   intercept_scaling=1, l1_ratio=None, max_iter=100,\n",
       "                   multi_class='warn', n_jobs=2, penalty='l2',\n",
       "                   random_state=None, solver='warn', tol=0.0001, verbose=0,\n",
       "                   warm_start=False)"
      ]
     },
     "execution_count": 82,
     "metadata": {},
     "output_type": "execute_result"
    }
   ],
   "source": [
    "# Building the model \n",
    "model = LogisticRegression(n_jobs=2)\n",
    "\n",
    "# fitting the model \n",
    "model.fit(X, y)"
   ]
  },
  {
   "cell_type": "code",
   "execution_count": 83,
   "metadata": {},
   "outputs": [
    {
     "data": {
      "text/plain": [
       "['greetings', 'good_reply', 'goodbye', 'insults', 'unknown']"
      ]
     },
     "execution_count": 83,
     "metadata": {},
     "output_type": "execute_result"
    }
   ],
   "source": [
    "list(df['tag'].unique())"
   ]
  },
  {
   "cell_type": "code",
   "execution_count": 84,
   "metadata": {
    "jupyter": {
     "source_hidden": true
    }
   },
   "outputs": [
    {
     "data": {
      "text/plain": [
       "array(['greetings'], dtype=object)"
      ]
     },
     "execution_count": 84,
     "metadata": {},
     "output_type": "execute_result"
    }
   ],
   "source": [
    "# Making predictions on new unseen dataset \n",
    "examples = ['hi']\n",
    "examples_counts = vectorizer.transform(examples)\n",
    "\n",
    "\n",
    "predictions = model.predict(examples_counts)\n",
    "predictions "
   ]
  },
  {
   "cell_type": "code",
   "execution_count": 85,
   "metadata": {},
   "outputs": [
    {
     "name": "stdout",
     "output_type": "stream",
     "text": [
      "1.0\n"
     ]
    }
   ],
   "source": [
    "import joblib \n",
    "\n",
    "# save the model to disk\n",
    "filename = 'conversation/conversation_model.pb'\n",
    "joblib.dump((model, vectorizer), filename)\n",
    " \n",
    "# some time later...\n",
    " \n",
    "# load the model from disk\n",
    "loaded_model, vectorizer = joblib.load(filename)\n",
    "result = loaded_model.score(X_test, y_test)\n",
    "print(result)"
   ]
  },
  {
   "cell_type": "code",
   "execution_count": null,
   "metadata": {},
   "outputs": [],
   "source": []
  },
  {
   "cell_type": "code",
   "execution_count": null,
   "metadata": {},
   "outputs": [],
   "source": []
  },
  {
   "cell_type": "code",
   "execution_count": null,
   "metadata": {},
   "outputs": [],
   "source": []
  },
  {
   "cell_type": "code",
   "execution_count": null,
   "metadata": {},
   "outputs": [],
   "source": [
    "  question_df = pd.read_csv(question_path)\n",
    "        # creating an instance of the countvectorizer class\n",
    "        vectorizer = CountVectorizer()\n",
    "        # changing the message column into a vector of numbers\n",
    "        X = vectorizer.fit_transform(question_df['message'].values)\n",
    "        # changing the targets into a simple output\n",
    "        y = question_df['tag'].values\n",
    "        # Balancing the dataset by oversampling the minority class\n",
    "        X_balanced, y_balanced = self.balancing_the_dataset(X, y)\n",
    "        # performing a training and spliting test\n",
    "        X_train, X_test, y_train, y_test = train_test_split(X_balanced, y_balanced,\n",
    "                                                            test_size=0.20,\n",
    "                                                            random_state = 21)\n",
    "        # Building the model and training it\n",
    "        model = LogisticRegression(solver='lbfgs')\n",
    "        # Training the model\n",
    "        model.fit(X_train, y_train)\n",
    "\n",
    "        # Changing directory backwards to the model directory and into the question directory\n",
    "        os.chdir('..'); os.chdir('question')\n",
    "        # saving the trained model to disk\n",
    "        file_name = 'question_model.pb'\n",
    "        # seralizing the model and dumping to disk\n",
    "        joblib.dump((model, vectorizer), file_name)\n",
    "        # Returning back to the root directory.\n",
    "        os.chdir(self.path)"
   ]
  }
 ],
 "metadata": {
  "kernelspec": {
   "display_name": "Python 3",
   "language": "python",
   "name": "python3"
  },
  "language_info": {
   "codemirror_mode": {
    "name": "ipython",
    "version": 3
   },
   "file_extension": ".py",
   "mimetype": "text/x-python",
   "name": "python",
   "nbconvert_exporter": "python",
   "pygments_lexer": "ipython3",
   "version": "3.6.10"
  }
 },
 "nbformat": 4,
 "nbformat_minor": 4
}
